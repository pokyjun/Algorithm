{
 "cells": [
  {
   "cell_type": "markdown",
   "id": "34e27dd6-e9dc-429b-a1de-cd520a9eea05",
   "metadata": {},
   "source": [
    "### 문제\n",
    "***\n",
    "도현이는 바구니를 총 N개 가지고 있고, 각각의 바구니에는 1번부터 N번까지 번호가 순서대로 적혀져 있다. 바구니는 일렬로 놓여져 있고, 가장 왼쪽 바구니를 1번째 바구니, 그 다음 바구니를 2번째 바구니, ..., 가장 오른쪽 바구니를 N번째 바구니라고 부른다. \n",
    "\n",
    "도현이는 앞으로 M번 바구니의 순서를 회전시키려고 만들려고 한다. 도현이는 바구니의 순서를 회전시킬 때, 순서를 회전시킬 범위를 정하고, 그 범위 안에서 기준이 될 바구니를 선택한다. 도현이가 선택한 바구니의 범위가 begin, end이고, 기준이 되는 바구니를 mid라고 했을 때, begin, begin+1, ..., mid-1, mid, mid+1, ..., end-1, end 순서로 되어있는 바구니의 순서를 mid, mid+1, ..., end-1, end, begin, begin+1, ..., mid-1로 바꾸게 된다.\n",
    "\n",
    "바구니의 순서를 어떻게 회전시킬지 주어졌을 때, M번 바구니의 순서를 회전시킨 다음, 바구니에 적혀있는 번호를 가장 왼쪽 바구니부터 출력하는 프로그램을 작성하시오.\n",
    "\n",
    "### 입력\n",
    "***\n",
    "첫째 줄에 N (1 ≤ N ≤ 100)과 M (1 ≤ M ≤ 100)이 주어진다.\n",
    "\n",
    "둘째 줄부터 M개의 줄에는 바구니의 순서를 바꾸는 만드는 방법이 주어진다. 방법은 i, j, k로 나타내고, 왼쪽으로부터 i번째 바구니부터 j번째 바구니의 순서를 회전시키는데, 그 때 기준 바구니는 k번째 바구니라는 뜻이다. (1 ≤ i ≤ k ≤ j ≤ N)\n",
    "\n",
    "도현이는 입력으로 주어진 순서대로 바구니의 순서를 회전시킨다.\n",
    "\n",
    "### 출력\n",
    "***\n",
    "모든 순서를 회전시킨 다음에, 가장 왼쪽에 있는 바구니부터 바구니에 적혀있는 순서를 공백으로 구분해 출력한다."
   ]
  },
  {
   "cell_type": "code",
   "execution_count": 1,
   "id": "0f89e744-e3b6-4ac3-a110-dbc92fbb7514",
   "metadata": {},
   "outputs": [
    {
     "name": "stdin",
     "output_type": "stream",
     "text": [
      " 10 5\n",
      " 1 6 4\n",
      " 3 9 8\n",
      " 2 10 5\n",
      " 1 3 3\n",
      " 2 6 2\n"
     ]
    },
    {
     "name": "stdout",
     "output_type": "stream",
     "text": [
      "1 4 6 2 3 7 10 5 8 9\n"
     ]
    }
   ],
   "source": [
    "n, m = map(int, input().split())\n",
    "arr = list(range(1, n+1))\n",
    "\n",
    "def rotate(i, j, k):\n",
    "    global arr\n",
    "    left = arr[:i-1]\n",
    "    mid = arr[i-1:j]\n",
    "    right = arr[j:]\n",
    "    arr = left + mid[k-i:] + mid[:k-i] + right\n",
    "\n",
    "for _ in range(m):\n",
    "    i, j, k = map(int, input().split())\n",
    "    rotate(i, j, k)\n",
    "\n",
    "print(*arr)\n",
    "\n",
    "'''\n",
    "예제 입력\n",
    " 1 6 4\n",
    " 3 9 8\n",
    " 2 10 5\n",
    " 1 3 3\n",
    " 2 7 2\n",
    "'''"
   ]
  }
 ],
 "metadata": {
  "kernelspec": {
   "display_name": "aiffel",
   "language": "python",
   "name": "aiffel"
  },
  "language_info": {
   "codemirror_mode": {
    "name": "ipython",
    "version": 3
   },
   "file_extension": ".py",
   "mimetype": "text/x-python",
   "name": "python",
   "nbconvert_exporter": "python",
   "pygments_lexer": "ipython3",
   "version": "3.9.7"
  }
 },
 "nbformat": 4,
 "nbformat_minor": 5
}
