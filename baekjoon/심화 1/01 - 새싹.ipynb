{
 "cells": [
  {
   "cell_type": "markdown",
   "id": "97e8d3bc-2407-4a12-a931-fee305e52ef4",
   "metadata": {},
   "source": [
    "### 문제\n",
    "***\n",
    "아래 예제와 같이 새싹을 출력하시오.\n",
    "\n",
    "### 입력\n",
    "***\n",
    "입력은 없다.\n",
    "\n",
    "### 출력\n",
    "***\n",
    "새싹을 출력한다."
   ]
  },
  {
   "cell_type": "code",
   "execution_count": 1,
   "id": "e02fd420-8f61-4dda-888d-91cb6435aa8a",
   "metadata": {},
   "outputs": [
    {
     "name": "stdout",
     "output_type": "stream",
     "text": [
      "         ,r'\"7\n",
      "r`-_   ,'  ,/\n",
      " \\. \". L_r'\n",
      "   `~\\/\n",
      "      |\n",
      "      |\n"
     ]
    }
   ],
   "source": [
    "print('         ,r\\'\\\"7')\n",
    "print('r`-_   ,\\'  ,/')\n",
    "print(' \\\\. \\\". L_r\\'')\n",
    "print('   `~\\\\/')\n",
    "print('      |')\n",
    "print('      |')"
   ]
  }
 ],
 "metadata": {
  "kernelspec": {
   "display_name": "aiffel",
   "language": "python",
   "name": "aiffel"
  },
  "language_info": {
   "codemirror_mode": {
    "name": "ipython",
    "version": 3
   },
   "file_extension": ".py",
   "mimetype": "text/x-python",
   "name": "python",
   "nbconvert_exporter": "python",
   "pygments_lexer": "ipython3",
   "version": "3.9.7"
  }
 },
 "nbformat": 4,
 "nbformat_minor": 5
}
