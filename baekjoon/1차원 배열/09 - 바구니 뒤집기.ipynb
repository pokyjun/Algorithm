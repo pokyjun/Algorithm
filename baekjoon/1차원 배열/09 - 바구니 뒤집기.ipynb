{
 "cells": [
  {
   "cell_type": "markdown",
   "id": "04ccd8a1-7863-48b0-8a88-ecdb49e17f9f",
   "metadata": {},
   "source": [
    "새로 나온 문제"
   ]
  },
  {
   "cell_type": "markdown",
   "id": "eaf86f4d-f79e-4ee2-9024-11f0fe19a3f4",
   "metadata": {},
   "source": [
    "### 문제\n",
    "***\n",
    "도현이는 바구니를 총 N개 가지고 있고, 각각의 바구니에는 1번부터 N번까지 번호가 순서대로 적혀져 있다. 바구니는 일렬로 놓여져 있고, 가장 왼쪽 바구니를 1번째 바구니, 그 다음 바구니를 2번째 바구니, ..., 가장 오른쪽 바구니를 N번째 바구니라고 부른다. \n",
    "\n",
    "도현이는 앞으로 M번 바구니의 순서를 역순으로 만들려고 한다. 도현이는 한 번 순서를 역순으로 바꿀 때, 순서를 역순으로 만들 범위를 정하고, 그 범위에 들어있는 바구니의 순서를 역순으로 만든다.\n",
    "\n",
    "바구니의 순서를 어떻게 바꿀지 주어졌을 때, M번 바구니의 순서를 역순으로 만든 다음, 바구니에 적혀있는 번호를 가장 왼쪽 바구니부터 출력하는 프로그램을 작성하시오.\n",
    "\n",
    "### 입력\n",
    "***\n",
    "첫째 줄에 N (1 ≤ N ≤ 100)과 M (1 ≤ M ≤ 100)이 주어진다.\n",
    "\n",
    "둘째 줄부터 M개의 줄에는 바구니의 순서를 역순으로 만드는 방법이 주어진다. 방법은 i j로 나타내고, 왼쪽으로부터 i번째 바구니부터 j번째 바구니의 순서를 역순으로 만든다는 뜻이다. (1 ≤ i ≤ j ≤ N)\n",
    "\n",
    "도현이는 입력으로 주어진 순서대로 바구니의 순서를 바꾼다.\n",
    "\n",
    "### 출력\n",
    "***\n",
    "모든 순서를 바꾼 다음에, 가장 왼쪽에 있는 바구니부터 바구니에 적혀있는 순서를 공백으로 구분해 출력한다."
   ]
  },
  {
   "cell_type": "code",
   "execution_count": 1,
   "id": "713b19ad-0388-45b1-be42-b27ecb94daaf",
   "metadata": {},
   "outputs": [
    {
     "name": "stdin",
     "output_type": "stream",
     "text": [
      " 5 4\n",
      " 1 2\n",
      " 3 4\n",
      " 1 4\n",
      " 2 2\n"
     ]
    },
    {
     "name": "stdout",
     "output_type": "stream",
     "text": [
      "3\n",
      "4\n",
      "1\n",
      "2\n",
      "5\n"
     ]
    }
   ],
   "source": [
    "n, m = map(int, input().split())\n",
    "\n",
    "a = [i for i in range(1, n+1)]\n",
    "\n",
    "for _ in range(m):\n",
    "    i,j = map(int, input().split())\n",
    "    a[i-1:j] = a[i-1:j][::-1]\n",
    "\n",
    "for i in a:\n",
    "    print(i, sep=' ' ) # 출력 : 3 4 1 2 5로 나와야 되는데 jupyter에서 안되나보다. "
   ]
  }
 ],
 "metadata": {
  "kernelspec": {
   "display_name": "Python 3 (ipykernel)",
   "language": "python",
   "name": "python3"
  },
  "language_info": {
   "codemirror_mode": {
    "name": "ipython",
    "version": 3
   },
   "file_extension": ".py",
   "mimetype": "text/x-python",
   "name": "python",
   "nbconvert_exporter": "python",
   "pygments_lexer": "ipython3",
   "version": "3.9.13"
  }
 },
 "nbformat": 4,
 "nbformat_minor": 5
}
