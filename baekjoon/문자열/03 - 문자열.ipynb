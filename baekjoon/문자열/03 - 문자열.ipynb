{
 "cells": [
  {
   "cell_type": "markdown",
   "id": "ddb53f30-7836-4dfa-b458-84b14a706926",
   "metadata": {
    "canvas": {
     "comments": [],
     "componentType": "CodeCell",
     "copiedOriginId": null,
     "diskcache": false,
     "headerColor": "none",
     "id": "0e55b275-ee73-4fcc-bbcf-fffa7f02ce16",
     "isComponent": false,
     "name": "",
     "parents": []
    },
    "tags": []
   },
   "source": [
    "### 문제\n",
    "***\n",
    "문자열을 입력으로 주면 문자열의 첫 글자와 마지막 글자를 출력하는 프로그램을 작성하시오.\n",
    "\n",
    "### 입력\n",
    "***\n",
    "입력의 첫 줄에는 테스트 케이스의 개수 T(1 ≤ T ≤ 10)가 주어진다. 각 테스트 케이스는 한 줄에 하나의 문자열이 주어진다. 문자열은 알파벳 A~Z 대문자로 이루어지며 알파벳 사이에 공백은 없으며 문자열의 길이는 1000보다 작다.\n",
    "\n",
    "### 출력\n",
    "***\n",
    "각 테스트 케이스에 대해서 주어진 문자열의 첫 글자와 마지막 글자를 연속하여 출력한다"
   ]
  },
  {
   "cell_type": "code",
   "execution_count": 1,
   "id": "f57422fe-70fb-4fb0-9533-e533f4bd7e41",
   "metadata": {
    "canvas": {
     "comments": [],
     "componentType": "CodeCell",
     "copiedOriginId": null,
     "diskcache": false,
     "headerColor": "none",
     "id": "c9a3bee0-4e65-4330-abdf-486e53de8b6d",
     "isComponent": false,
     "name": "",
     "parents": []
    }
   },
   "outputs": [
    {
     "name": "stdin",
     "output_type": "stream",
     "text": [
      " 3\n",
      " ACDKJFOWIEGHE\n"
     ]
    },
    {
     "name": "stdout",
     "output_type": "stream",
     "text": [
      "AE\n"
     ]
    },
    {
     "name": "stdin",
     "output_type": "stream",
     "text": [
      " O\n"
     ]
    },
    {
     "name": "stdout",
     "output_type": "stream",
     "text": [
      "OO\n"
     ]
    },
    {
     "name": "stdin",
     "output_type": "stream",
     "text": [
      " AB\n"
     ]
    },
    {
     "name": "stdout",
     "output_type": "stream",
     "text": [
      "AB\n"
     ]
    }
   ],
   "source": [
    "n = int(input())\n",
    "for i in range(n):\n",
    "    s = input()\n",
    "    print(f'{s[0]}{s[-1]}')"
   ]
  }
 ],
 "metadata": {
  "canvas": {
   "colorPalette": [
    "inherit",
    "inherit",
    "inherit",
    "inherit",
    "inherit",
    "inherit",
    "inherit",
    "inherit",
    "inherit",
    "inherit"
   ],
   "parameters": [],
   "version": "1.0"
  },
  "kernelspec": {
   "display_name": "Python 3.9\n(Link Desktop)",
   "language": "python",
   "name": "python3"
  },
  "language_info": {
   "codemirror_mode": {
    "name": "ipython",
    "version": 3
   },
   "file_extension": ".py",
   "mimetype": "text/x-python",
   "name": "python",
   "nbconvert_exporter": "python",
   "pygments_lexer": "ipython3",
   "version": "3.9.12"
  }
 },
 "nbformat": 4,
 "nbformat_minor": 5
}
