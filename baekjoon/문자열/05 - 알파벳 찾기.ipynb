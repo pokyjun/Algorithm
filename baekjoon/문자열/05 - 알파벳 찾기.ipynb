{
 "cells": [
  {
   "cell_type": "markdown",
   "id": "87dae7e0-e5be-4067-bb86-bcb8970ccc14",
   "metadata": {
    "canvas": {
     "comments": [],
     "componentType": "CodeCell",
     "copiedOriginId": null,
     "diskcache": false,
     "headerColor": "none",
     "id": "19ad62d1-d7ae-41b9-8810-3a564f0248b8",
     "isComponent": false,
     "name": "",
     "parents": []
    },
    "tags": []
   },
   "source": [
    "### 문제\n",
    "***\n",
    "알파벳 소문자로만 이루어진 단어 S가 주어진다. 각각의 알파벳에 대해서, 단어에 포함되어 있는 경우에는 처음 등장하는 위치를, 포함되어 있지 않은 경우에는 -1을 출력하는 프로그램을 작성하시오.\n",
    "\n",
    "### 입력\n",
    "***\n",
    "첫째 줄에 단어 S가 주어진다. 단어의 길이는 100을 넘지 않으며, 알파벳 소문자로만 이루어져 있다.\n",
    "\n",
    "### 출력\n",
    "***\n",
    "각각의 알파벳에 대해서, a가 처음 등장하는 위치, b가 처음 등장하는 위치, ... z가 처음 등장하는 위치를 공백으로 구분해서 출력한다.\n",
    "\n",
    "만약, 어떤 알파벳이 단어에 포함되어 있지 않다면 -1을 출력한다. 단어의 첫 번째 글자는 0번째 위치이고, 두 번째 글자는 1번째 위치이다."
   ]
  },
  {
   "cell_type": "markdown",
   "id": "009c4913-3592-429c-bf47-aacd61626206",
   "metadata": {
    "canvas": {
     "comments": [],
     "componentType": "CodeCell",
     "copiedOriginId": null,
     "diskcache": false,
     "headerColor": "none",
     "id": "ba864b7e-a2e0-4761-b901-88355126b56f",
     "isComponent": false,
     "name": "",
     "parents": []
    }
   },
   "source": [
    "#### 필기\n",
    "- ord()  \n",
    "    하나의 문자를 인자로 받고 해당 문자에 해당하는 정수를 반환\n",
    "    - ord('a') = 97\n",
    "    - ord('z') = 122\n",
    "    \n",
    "- chr()  \n",
    "    하나의 정수를 인자로 받고 해당 문자에 해당하는 문자를 반환\n",
    "    \n",
    "    - chr(97) = 'a'\n",
    "    - chr(122) = 'z'"
   ]
  },
  {
   "cell_type": "code",
   "execution_count": 1,
   "id": "14ad149c-2b29-4fba-9d58-4bbf98f6f88f",
   "metadata": {
    "canvas": {
     "comments": [],
     "componentType": "CodeCell",
     "copiedOriginId": null,
     "diskcache": false,
     "headerColor": "none",
     "id": "6c6c87b5-6764-435d-b37f-3bf483abdd2b",
     "isComponent": false,
     "name": "",
     "parents": []
    }
   },
   "outputs": [
    {
     "name": "stdin",
     "output_type": "stream",
     "text": [
      " baekjoon\n"
     ]
    },
    {
     "name": "stdout",
     "output_type": "stream",
     "text": [
      "1 0 -1 -1 2 -1 -1 -1 -1 4 3 -1 -1 7 5 -1 -1 -1 -1 -1 -1 -1 -1 -1 -1 -1 "
     ]
    }
   ],
   "source": [
    "s = input()\n",
    "\n",
    "d = {chr(i):-1 for i in range(97,123)} # a:97, z:122\n",
    "\n",
    "# d = {'a':-1, 'b':-1, ... 'z':-1}\n",
    "\n",
    "for i in range(len(s)):\n",
    "    # 같은 알파벳이 있으면 수가 변경되기에 조건을 걸어줌\n",
    "    if d[s[i]] == -1: \n",
    "        d[s[i]] = i\n",
    "            \n",
    "for i in d.values():\n",
    "    print(i, sep=' ')"
   ]
  }
 ],
 "metadata": {
  "canvas": {
   "colorPalette": [
    "inherit",
    "inherit",
    "inherit",
    "inherit",
    "inherit",
    "inherit",
    "inherit",
    "inherit",
    "inherit",
    "inherit"
   ],
   "parameters": [],
   "version": "1.0"
  },
  "kernelspec": {
   "display_name": "aiffel",
   "language": "python",
   "name": "aiffel"
  },
  "language_info": {
   "codemirror_mode": {
    "name": "ipython",
    "version": 3
   },
   "file_extension": ".py",
   "mimetype": "text/x-python",
   "name": "python",
   "nbconvert_exporter": "python",
   "pygments_lexer": "ipython3",
   "version": "3.9.7"
  }
 },
 "nbformat": 4,
 "nbformat_minor": 5
}
