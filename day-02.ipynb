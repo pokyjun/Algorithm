{
 "cells": [
  {
   "cell_type": "markdown",
   "id": "8086a495-688a-464d-bdd5-630abd588373",
   "metadata": {
    "canvas": {
     "comments": [],
     "componentType": "CodeCell",
     "copiedOriginId": null,
     "diskcache": false,
     "headerColor": "inherit",
     "id": "28ba687d-edaa-4ca7-b397-61b53fe35fc7",
     "isComponent": false,
     "name": "",
     "parents": []
    },
    "tags": []
   },
   "source": [
    "Q. 데이터 처리를 위해서 문자열을 입력받았습니다. 그런데, 문자열을 받았 더니 단어 단위로 거꾸로 입력되었습니다. 이를 다시 원래대로 출력하는 함수 를 작성해보세요.😎\n",
    "\n",
    "- string 문장을 받아 단어를 역순으로 출력하는 함수를 작성하세요.\n",
    "- string 연산을 이용해보세요."
   ]
  },
  {
   "cell_type": "code",
   "execution_count": 1,
   "id": "c031dec8-d014-4999-8693-f32c071bddfa",
   "metadata": {
    "canvas": {
     "comments": [],
     "componentType": "CodeCell",
     "copiedOriginId": null,
     "diskcache": false,
     "headerColor": "inherit",
     "id": "2589c81e-277a-4358-af84-e29281e34715",
     "isComponent": false,
     "name": "",
     "parents": []
    }
   },
   "outputs": [
    {
     "name": "stdout",
     "output_type": "stream",
     "text": [
      "Where there is a will there is a way \n"
     ]
    }
   ],
   "source": [
    "sentence = \"way a is there will a is there Where\"\n",
    "def reverse_sentence(sentence):\n",
    "    sentence_split = sentence.split(' ')\n",
    "    a = ''\n",
    "    for i in sentence_split[::-1]:\n",
    "        a += i + ' '\n",
    "    return a\n",
    "print(reverse_sentence(sentence))"
   ]
  }
 ],
 "metadata": {
  "canvas": {
   "colorPalette": [
    "inherit",
    "inherit",
    "inherit",
    "inherit",
    "inherit",
    "inherit",
    "inherit",
    "inherit",
    "inherit",
    "inherit"
   ],
   "parameters": [],
   "version": "1.0"
  },
  "kernelspec": {
   "display_name": "Python 3.9\n(Link Desktop)",
   "language": "python",
   "name": "python3"
  },
  "language_info": {
   "codemirror_mode": {
    "name": "ipython",
    "version": 3
   },
   "file_extension": ".py",
   "mimetype": "text/x-python",
   "name": "python",
   "nbconvert_exporter": "python",
   "pygments_lexer": "ipython3",
   "version": "3.9.12"
  }
 },
 "nbformat": 4,
 "nbformat_minor": 5
}
