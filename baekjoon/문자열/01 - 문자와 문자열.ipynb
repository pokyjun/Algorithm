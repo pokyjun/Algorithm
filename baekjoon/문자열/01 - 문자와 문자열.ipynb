{
 "cells": [
  {
   "cell_type": "markdown",
   "id": "4c1ade6f-2036-48e9-b467-bc35ebd61cdb",
   "metadata": {},
   "source": [
    "### 문제\n",
    "***\n",
    "단어 $S$와 정수 $i$가 주어졌을 때, $S$의 $i$번째 글자를 출력하는 프로그램을 작성하시오.\n",
    "\n",
    "### 입력\n",
    "***\n",
    "첫째 줄에 영어 소문자와 대문자로만 이루어진 단어 $S$가 주어진다. 단어의 길이는 최대 $1\\,000$이다.\n",
    "\n",
    "둘째 줄에 정수 $i$가 주어진다. ($1 \\le i \\le \\left|S\\right|$)\n",
    "\n",
    "### 출력\n",
    "***\n",
    "$S$의 $i$번째 글자를 출력한다."
   ]
  },
  {
   "cell_type": "code",
   "execution_count": 1,
   "id": "611913f9-84bf-4586-9ab2-39265c0d8c0f",
   "metadata": {},
   "outputs": [
    {
     "name": "stdin",
     "output_type": "stream",
     "text": [
      " Sprout\n",
      " 3\n"
     ]
    },
    {
     "name": "stdout",
     "output_type": "stream",
     "text": [
      "r\n"
     ]
    }
   ],
   "source": [
    "s = input()\n",
    "i = int(input())\n",
    "print(s[i-1])"
   ]
  }
 ],
 "metadata": {
  "kernelspec": {
   "display_name": "Python 3 (ipykernel)",
   "language": "python",
   "name": "python3"
  },
  "language_info": {
   "codemirror_mode": {
    "name": "ipython",
    "version": 3
   },
   "file_extension": ".py",
   "mimetype": "text/x-python",
   "name": "python",
   "nbconvert_exporter": "python",
   "pygments_lexer": "ipython3",
   "version": "3.9.7"
  }
 },
 "nbformat": 4,
 "nbformat_minor": 5
}
