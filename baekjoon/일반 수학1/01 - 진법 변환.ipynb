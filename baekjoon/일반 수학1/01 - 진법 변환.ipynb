{
 "cells": [
  {
   "cell_type": "markdown",
   "id": "74680833-ae0b-4ccc-a36c-90adfb70965b",
   "metadata": {},
   "source": [
    "### 문제\n",
    "***\n",
    "B진법 수 N이 주어진다. 이 수를 10진법으로 바꿔 출력하는 프로그램을 작성하시오.\n",
    "\n",
    "10진법을 넘어가는 진법은 숫자로 표시할 수 없는 자리가 있다. 이런 경우에는 다음과 같이 알파벳 대문자를 사용한다.\n",
    "\n",
    "A: 10, B: 11, ..., F: 15, ..., Y: 34, Z: 35\n",
    "\n",
    "### 입력\n",
    "***\n",
    "첫째 줄에 N과 B가 주어진다. (2 ≤ B ≤ 36)\n",
    "\n",
    "B진법 수 N을 10진법으로 바꾸면, 항상 10억보다 작거나 같다.\n",
    "\n",
    "### 출력\n",
    "***\n",
    "첫째 줄에 B진법 수 N을 10진법으로 출력한다."
   ]
  },
  {
   "cell_type": "code",
   "execution_count": 1,
   "id": "387bd3ba-b7b9-410c-bbfb-af9c73ff3617",
   "metadata": {},
   "outputs": [
    {
     "name": "stdin",
     "output_type": "stream",
     "text": [
      " ZZZZZ 36\n"
     ]
    },
    {
     "name": "stdout",
     "output_type": "stream",
     "text": [
      "60466175\n"
     ]
    }
   ],
   "source": [
    "a = {chr(i+65) : i+10 for i in range(26)} # {알파벳 : 숫자}\n",
    "\n",
    "n, b = input().split()\n",
    "b = int(b)\n",
    "\n",
    "result = 0 # 10진수 결과 저장\n",
    "\n",
    "for i,j in enumerate(n[::-1]): # n의 끝자리 부터 \n",
    "    if j.isdigit(): # j가 숫자이면 \n",
    "        result += int(j) * (b ** i) # str j를 int j로\n",
    "    else: # j가 숫자가 아니라면\n",
    "        result += a[j] * (b ** i) # a['Z'] -> 35\n",
    "print(result)\n",
    "\n",
    "'''\n",
    "예제 입력\n",
    "ZZZZZ 36\n",
    "'''"
   ]
  },
  {
   "cell_type": "markdown",
   "id": "a2463c2a-e5f5-425d-b1d0-6ad357cce9e8",
   "metadata": {},
   "source": [
    "16진수 4CD를 10진수로 하면     \n",
    "A-10   \n",
    "B-11  \n",
    "C-12  \n",
    "D-13   \n",
    "(4 * 16^2) + (12 * 16^1) + (13 * 16^0) = 1229이다."
   ]
  }
 ],
 "metadata": {
  "kernelspec": {
   "display_name": "Python 3 (ipykernel)",
   "language": "python",
   "name": "python3"
  },
  "language_info": {
   "codemirror_mode": {
    "name": "ipython",
    "version": 3
   },
   "file_extension": ".py",
   "mimetype": "text/x-python",
   "name": "python",
   "nbconvert_exporter": "python",
   "pygments_lexer": "ipython3",
   "version": "3.10.8"
  }
 },
 "nbformat": 4,
 "nbformat_minor": 5
}
