{
 "cells": [
  {
   "cell_type": "markdown",
   "id": "00c39569-ca94-4b81-8a5b-b637f471f8b7",
   "metadata": {
    "canvas": {
     "comments": [],
     "componentType": "CodeCell",
     "copiedOriginId": null,
     "diskcache": false,
     "headerColor": "inherit",
     "id": "28ba687d-edaa-4ca7-b397-61b53fe35fc7",
     "isComponent": false,
     "name": "",
     "parents": []
    },
    "tags": []
   },
   "source": [
    "Q. 이번 학기의 중간고사, 기말고사 점수가 발표되었습니다. 각 학생들의 점 수가 튜플 형태로 저장되어 있고, 이를 포함한 리스트가 있습니다. 이를 이용 해 각 학생들의 평균 점수를 출력하는 함수를 제작하세요. 😎\n",
    "\n",
    "- 리스트와 반복문을 사용해 데이터를 불러오세요.\n",
    "- 이를 이용해 각 학생별 평균을 구해보세요"
   ]
  },
  {
   "cell_type": "code",
   "execution_count": 1,
   "id": "0046e1af-ca7e-4dfb-82b3-d393e1ea81bc",
   "metadata": {
    "canvas": {
     "comments": [],
     "componentType": "CodeCell",
     "copiedOriginId": null,
     "diskcache": false,
     "headerColor": "inherit",
     "id": "418f4ca4-cca6-4837-bb99-6af9b4224803",
     "isComponent": false,
     "name": "",
     "parents": []
    }
   },
   "outputs": [
    {
     "name": "stdout",
     "output_type": "stream",
     "text": [
      "1번, 평균 : 100.0\n",
      "2번, 평균 : 92.5\n",
      "3번, 평균 : 57.5\n",
      "4번, 평균 : 77.5\n",
      "5번, 평균 : 70.0\n"
     ]
    }
   ],
   "source": [
    "score = [(100,100), (95,90), (55,60), (75,80), (70,70)]\n",
    "def get_avg(score):\n",
    "    for k,v in enumerate(score):\n",
    "        k += 1\n",
    "        a = (v[0] + v[1]) / len(v)\n",
    "        print(f'{k}번, 평균 : {a}')\n",
    "get_avg(score)"
   ]
  }
 ],
 "metadata": {
  "canvas": {
   "colorPalette": [
    "inherit",
    "inherit",
    "inherit",
    "inherit",
    "inherit",
    "inherit",
    "inherit",
    "inherit",
    "inherit",
    "inherit"
   ],
   "parameters": [],
   "version": "1.0"
  },
  "kernelspec": {
   "display_name": "Python 3.9\n(Link Desktop)",
   "language": "python",
   "name": "python3"
  },
  "language_info": {
   "codemirror_mode": {
    "name": "ipython",
    "version": 3
   },
   "file_extension": ".py",
   "mimetype": "text/x-python",
   "name": "python",
   "nbconvert_exporter": "python",
   "pygments_lexer": "ipython3",
   "version": "3.9.12"
  }
 },
 "nbformat": 4,
 "nbformat_minor": 5
}
