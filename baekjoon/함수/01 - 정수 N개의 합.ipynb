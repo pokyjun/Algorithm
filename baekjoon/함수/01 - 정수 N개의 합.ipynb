{
 "cells": [
  {
   "cell_type": "markdown",
   "id": "e5776404-f94e-4041-b03e-3cf1b7ea49bb",
   "metadata": {
    "canvas": {
     "comments": [],
     "componentType": "CodeCell",
     "copiedOriginId": null,
     "diskcache": false,
     "headerColor": "inherit",
     "id": "99c6e31d-c9f4-4e68-a619-1f89b7012263",
     "isComponent": false,
     "name": "",
     "parents": []
    }
   },
   "source": [
    "### 문제\n",
    "***\n",
    "Python 2, Python 3, PyPy, PyPy3: def solve(a: list) -> int  \n",
    "a: 합을 구해야 하는 정수 n개가 저장되어 있는 리스트 (0 ≤ a[i] ≤ 1,000,000, 1 ≤ n ≤ 3,000,000)  \n",
    "리턴값: a에 포함되어 있는 정수 n개의 합 (정수)"
   ]
  },
  {
   "cell_type": "code",
   "execution_count": 1,
   "id": "7bf2e6ba-404d-4382-800c-eef27753344f",
   "metadata": {
    "canvas": {
     "comments": [],
     "componentType": "CodeCell",
     "copiedOriginId": null,
     "diskcache": false,
     "headerColor": "inherit",
     "id": "0b2bf367-9d8f-4fce-8f18-e921f4994086",
     "isComponent": false,
     "name": "",
     "parents": []
    }
   },
   "outputs": [],
   "source": [
    "def solve(a: list):\n",
    "    return sum(a)"
   ]
  },
  {
   "cell_type": "markdown",
   "id": "655d4a8d-af53-48fd-8038-ca466aa17f7e",
   "metadata": {
    "canvas": {
     "comments": [],
     "componentType": "CodeCell",
     "copiedOriginId": null,
     "diskcache": false,
     "headerColor": "inherit",
     "id": "8881b9bf-5451-4b0c-9cfb-19e4e32f9f5a",
     "isComponent": false,
     "name": "",
     "parents": []
    }
   },
   "source": [
    "코딩테스트에서 함수는 전부 return 사용하는걸로 알고있다."
   ]
  },
  {
   "cell_type": "code",
   "execution_count": 2,
   "id": "52c999f1-b226-4490-8a6e-aeb40b860fff",
   "metadata": {
    "canvas": {
     "comments": [],
     "componentType": "CodeCell",
     "copiedOriginId": null,
     "diskcache": false,
     "headerColor": "none",
     "id": "8fa29fb2-426a-4b11-861f-cde39da33735",
     "isComponent": false,
     "name": "",
     "parents": []
    },
    "tags": []
   },
   "outputs": [],
   "source": [
    "def solve(a: list):\n",
    "    print(sum(a))"
   ]
  }
 ],
 "metadata": {
  "canvas": {
   "colorPalette": [
    "inherit",
    "inherit",
    "inherit",
    "inherit",
    "inherit",
    "inherit",
    "inherit",
    "inherit",
    "inherit",
    "inherit"
   ],
   "parameters": [],
   "version": "1.0"
  },
  "kernelspec": {
   "display_name": "Python 3.9\n(Link Desktop)",
   "language": "python",
   "name": "python3"
  },
  "language_info": {
   "codemirror_mode": {
    "name": "ipython",
    "version": 3
   },
   "file_extension": ".py",
   "mimetype": "text/x-python",
   "name": "python",
   "nbconvert_exporter": "python",
   "pygments_lexer": "ipython3",
   "version": "3.9.12"
  }
 },
 "nbformat": 4,
 "nbformat_minor": 5
}
