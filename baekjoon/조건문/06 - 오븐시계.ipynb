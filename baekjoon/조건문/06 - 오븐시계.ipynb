{
 "cells": [
  {
   "cell_type": "markdown",
   "id": "df1eb6bf-b535-4d2e-bf35-fc1e2805499b",
   "metadata": {
    "canvas": {
     "comments": [],
     "componentType": "CodeCell",
     "copiedOriginId": null,
     "diskcache": false,
     "headerColor": "inherit",
     "id": "5b084977-0975-4bb7-8161-d69c8e729cd3",
     "isComponent": false,
     "name": "",
     "parents": []
    },
    "tags": []
   },
   "source": [
    "### 문제\n",
    "***\n",
    "KOI 전자에서는 건강에 좋고 맛있는 훈제오리구이 요리를 간편하게 만드는 인공지능 오븐을 개발하려고 한다. 인공지능 오븐을 사용하는 방법은 적당한 양의 오리 훈제 재료를 인공지능 오븐에 넣으면 된다. 그러면 인공지능 오븐은 오븐구이가 끝나는 시간을 분 단위로 자동적으로 계산한다. \n",
    "\n",
    "또한, KOI 전자의 인공지능 오븐 앞면에는 사용자에게 훈제오리구이 요리가 끝나는 시각을 알려 주는 디지털 시계가 있다. \n",
    "\n",
    "훈제오리구이를 시작하는 시각과 오븐구이를 하는 데 필요한 시간이 분단위로 주어졌을 때, 오븐구이가 끝나는 시각을 계산하는 프로그램을 작성하시오.\n",
    "\n",
    "### 입력\n",
    "***\n",
    "첫째 줄에는 현재 시각이 나온다. 현재 시각은 시 A (0 ≤ A ≤ 23) 와 분 B (0 ≤ B ≤ 59)가 정수로 빈칸을 사이에 두고 순서대로 주어진다. 두 번째 줄에는 요리하는 데 필요한 시간 C (0 ≤ C ≤ 1,000)가 분 단위로 주어진다. \n",
    "\n",
    "### 출력\n",
    "***\n",
    "첫째 줄에 종료되는 시각의 시와 분을 공백을 사이에 두고 출력한다. (단, 시는 0부터 23까지의 정수, 분은 0부터 59까지의 정수이다. 디지털 시계는 23시 59분에서 1분이 지나면 0시 0분이 된다.)"
   ]
  },
  {
   "cell_type": "code",
   "execution_count": 1,
   "id": "b7bb5403-c4a3-4879-bad2-36d86e4bc7c6",
   "metadata": {
    "canvas": {
     "comments": [],
     "componentType": "CodeCell",
     "copiedOriginId": null,
     "diskcache": false,
     "headerColor": "inherit",
     "id": "e8c77caf-9332-4790-8b26-3ac9479a5bc0",
     "isComponent": false,
     "name": "",
     "parents": []
    }
   },
   "outputs": [
    {
     "name": "stdin",
     "output_type": "stream",
     "text": [
      " 14 30\n",
      " 20\n"
     ]
    },
    {
     "name": "stdout",
     "output_type": "stream",
     "text": [
      "14 50\n"
     ]
    }
   ],
   "source": [
    "h, m = map(int, input().split())\n",
    "t = int(input())\n",
    "\n",
    "h += t // 60\n",
    "m += t % 60\n",
    "\n",
    "if m >= 60:\n",
    "    h += 1\n",
    "    m -= 60\n",
    "    \n",
    "if h >= 24:\n",
    "    h -= 24\n",
    "print(h,m)"
   ]
  },
  {
   "cell_type": "code",
   "execution_count": 2,
   "id": "5bf708bc-bdcd-4d4a-941d-3b4d7ed88f93",
   "metadata": {
    "canvas": {
     "comments": [],
     "componentType": "CodeCell",
     "copiedOriginId": null,
     "diskcache": false,
     "headerColor": "inherit",
     "id": "eb5bf291-9819-4d23-86f9-857ec6fd3c01",
     "isComponent": false,
     "name": "",
     "parents": []
    }
   },
   "outputs": [
    {
     "name": "stdin",
     "output_type": "stream",
     "text": [
      " 17 40\n",
      " 80\n"
     ]
    },
    {
     "name": "stdout",
     "output_type": "stream",
     "text": [
      "19 0\n"
     ]
    }
   ],
   "source": [
    "h, m = map(int, input().split())\n",
    "t = int(input())\n",
    "\n",
    "h += t // 60\n",
    "m += t % 60\n",
    "\n",
    "if m >= 60:\n",
    "    h += 1\n",
    "    m -= 60\n",
    "    \n",
    "if h >= 24:\n",
    "    h -= 24\n",
    "print(h,m)"
   ]
  },
  {
   "cell_type": "code",
   "execution_count": 3,
   "id": "c81dca7c-536c-47d8-a414-15b5bda5daba",
   "metadata": {
    "canvas": {
     "comments": [],
     "componentType": "CodeCell",
     "copiedOriginId": null,
     "diskcache": false,
     "headerColor": "inherit",
     "id": "9001445a-2b3d-4044-bf82-463f95da963c",
     "isComponent": false,
     "name": "",
     "parents": []
    }
   },
   "outputs": [
    {
     "name": "stdin",
     "output_type": "stream",
     "text": [
      " 23 48\n",
      " 25\n"
     ]
    },
    {
     "name": "stdout",
     "output_type": "stream",
     "text": [
      "0 13\n"
     ]
    }
   ],
   "source": [
    "h, m = map(int, input().split())\n",
    "t = int(input())\n",
    "\n",
    "h += t // 60\n",
    "m += t % 60\n",
    "\n",
    "if m >= 60:\n",
    "    h += 1\n",
    "    m -= 60\n",
    "    \n",
    "if h >= 24:\n",
    "    h -= 24\n",
    "print(h,m)"
   ]
  }
 ],
 "metadata": {
  "canvas": {
   "colorPalette": [
    "inherit",
    "inherit",
    "inherit",
    "inherit",
    "inherit",
    "inherit",
    "inherit",
    "inherit",
    "inherit",
    "inherit"
   ],
   "parameters": [],
   "version": "1.0"
  },
  "kernelspec": {
   "display_name": "Python 3.9\n(Link Desktop)",
   "language": "python",
   "name": "python3"
  },
  "language_info": {
   "codemirror_mode": {
    "name": "ipython",
    "version": 3
   },
   "file_extension": ".py",
   "mimetype": "text/x-python",
   "name": "python",
   "nbconvert_exporter": "python",
   "pygments_lexer": "ipython3",
   "version": "3.9.12"
  }
 },
 "nbformat": 4,
 "nbformat_minor": 5
}
