{
 "cells": [
  {
   "cell_type": "markdown",
   "id": "80957420-0efa-4bc0-9d97-ea675bc33816",
   "metadata": {
    "canvas": {
     "comments": [],
     "componentType": "CodeCell",
     "copiedOriginId": null,
     "diskcache": false,
     "headerColor": "inherit",
     "id": "48468d9a-4259-4cfc-b20f-1cd179aef570",
     "isComponent": false,
     "name": "",
     "parents": []
    },
    "tags": []
   },
   "source": [
    "Q. 단어들을 입력받았는데, 자꾸만 숫자들이 섞여들어가는 문제가 있습니 다. 이를 처리하기 위해서 함수에 string을 전달 받은 뒤, string 안에서의 숫자를 제거한 후 string만 남은 리스트를 출력하세요. 😎\n",
    "\n",
    "- string 연산을 이용해서 문자열을 자르는 연산을 사용해보세요."
   ]
  },
  {
   "cell_type": "code",
   "execution_count": 1,
   "id": "61cdbc20-13ec-4c44-a7d7-a0b96fd77cb7",
   "metadata": {
    "canvas": {
     "comments": [],
     "componentType": "CodeCell",
     "copiedOriginId": null,
     "diskcache": false,
     "headerColor": "inherit",
     "id": "b26e0610-8646-4898-89e1-46ec22fb26d6",
     "isComponent": false,
     "name": "",
     "parents": []
    }
   },
   "outputs": [
    {
     "name": "stdin",
     "output_type": "stream",
     "text": [
      " cat324dog6454cow53\n"
     ]
    },
    {
     "name": "stdout",
     "output_type": "stream",
     "text": [
      "['cat', 'dog', 'cow']\n"
     ]
    }
   ],
   "source": [
    "import re\n",
    "inputs = input()\n",
    "def find_string(inputs):\n",
    "    a = re.sub(r\"[0-9]\", \" \", inputs)\n",
    "    b = a.split()\n",
    "    print(b)\n",
    "find_string(inputs)"
   ]
  }
 ],
 "metadata": {
  "canvas": {
   "colorPalette": [
    "inherit",
    "inherit",
    "inherit",
    "inherit",
    "inherit",
    "inherit",
    "inherit",
    "inherit",
    "inherit",
    "inherit"
   ],
   "parameters": [],
   "version": "1.0"
  },
  "kernelspec": {
   "display_name": "Python 3.9\n(Link Desktop)",
   "language": "python",
   "name": "python3"
  },
  "language_info": {
   "codemirror_mode": {
    "name": "ipython",
    "version": 3
   },
   "file_extension": ".py",
   "mimetype": "text/x-python",
   "name": "python",
   "nbconvert_exporter": "python",
   "pygments_lexer": "ipython3",
   "version": "3.9.12"
  }
 },
 "nbformat": 4,
 "nbformat_minor": 5
}
