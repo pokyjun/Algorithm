{
 "cells": [
  {
   "cell_type": "markdown",
   "id": "41fbc579-7bb7-416b-8b98-260b8654c6f0",
   "metadata": {},
   "source": [
    "### 문제\n",
    "***\n",
    "알파벳 대소문자로 된 단어가 주어지면, 이 단어에서 가장 많이 사용된 알파벳이 무엇인지 알아내는 프로그램을 작성하시오. 단, 대문자와 소문자를 구분하지 않는다.\n",
    "\n",
    "### 입력\n",
    "***\n",
    "첫째 줄에 알파벳 대소문자로 이루어진 단어가 주어진다. 주어지는 단어의 길이는 1,000,000을 넘지 않는다.\n",
    "\n",
    "### 출력\n",
    "***\n",
    "첫째 줄에 이 단어에서 가장 많이 사용된 알파벳을 대문자로 출력한다. 단, 가장 많이 사용된 알파벳이 여러 개 존재하는 경우에는 ?를 출력한다."
   ]
  },
  {
   "cell_type": "code",
   "execution_count": 1,
   "id": "2cda4f03-35a4-42a7-b064-e8fa8d039d07",
   "metadata": {},
   "outputs": [
    {
     "name": "stdin",
     "output_type": "stream",
     "text": [
      " baekjoon\n"
     ]
    },
    {
     "name": "stdout",
     "output_type": "stream",
     "text": [
      "O\n"
     ]
    }
   ],
   "source": [
    "n = input().upper()\n",
    "\n",
    "a = [0] * 26 # 26 : 알파벳 갯수\n",
    "\n",
    "for i in n:\n",
    "    a[ord(i) - ord('A')] += 1 # 알파벳이 해당하는 자리에 1씩 +\n",
    "\n",
    "max_count = max(a) # 최댓값 \n",
    "max_index = a.index(max_count) # 최댓값의 인덱스\n",
    "\n",
    "if a.count(max_count) == 1: # 최댓값의 개수 == 1이면\n",
    "    print(chr(max_index + ord('A'))) # 인덱스 + 65 = 숫자 -> chr(숫자) -> 문자로 변경하여 출력\n",
    "else:        \n",
    "    print('?')\n",
    "    \n",
    "'''\n",
    "예제 입력\n",
    "baekjoon\n",
    "'''"
   ]
  },
  {
   "cell_type": "code",
   "execution_count": 2,
   "id": "65b626fc-456e-4f41-bd69-b06b1df7bb07",
   "metadata": {},
   "outputs": [
    {
     "name": "stdin",
     "output_type": "stream",
     "text": [
      " Mississipi\n"
     ]
    },
    {
     "name": "stdout",
     "output_type": "stream",
     "text": [
      "?\n"
     ]
    }
   ],
   "source": [
    "n = input().upper()\n",
    "\n",
    "a = [0] * 26 # 26 : 알파벳 갯수\n",
    "\n",
    "for i in n:\n",
    "    a[ord(i) - ord('A')] += 1 # 알파벳이 해당하는 자리에 1씩 +\n",
    "\n",
    "max_count = max(a) # 최댓값 \n",
    "max_index = a.index(max_count) # 최댓값의 인덱스\n",
    "\n",
    "if a.count(max_count) == 1: # 최댓값의 개수 == 1이면\n",
    "    print(chr(max_index + ord('A'))) # 인덱스 + 65 = 숫자 -> chr(숫자) -> 문자로 변경하여 출력\n",
    "else:\n",
    "    print('?')\n",
    "    \n",
    "'''\n",
    "예제 입력\n",
    "Mississipi\n",
    "'''"
   ]
  }
 ],
 "metadata": {
  "kernelspec": {
   "display_name": "Python 3 (ipykernel)",
   "language": "python",
   "name": "python3"
  },
  "language_info": {
   "codemirror_mode": {
    "name": "ipython",
    "version": 3
   },
   "file_extension": ".py",
   "mimetype": "text/x-python",
   "name": "python",
   "nbconvert_exporter": "python",
   "pygments_lexer": "ipython3",
   "version": "3.9.13"
  }
 },
 "nbformat": 4,
 "nbformat_minor": 5
}
