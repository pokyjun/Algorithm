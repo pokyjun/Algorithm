{
 "cells": [
  {
   "cell_type": "markdown",
   "id": "74e286bb-b6b0-4221-867b-65488cd6296f",
   "metadata": {
    "canvas": {
     "comments": [],
     "componentType": "CodeCell",
     "copiedOriginId": null,
     "diskcache": false,
     "headerColor": "inherit",
     "id": "e26c302d-0e57-4429-8ef3-8d610cc020df",
     "isComponent": false,
     "name": "",
     "parents": []
    },
    "tags": []
   },
   "source": [
    "Q. 파이썬에서는 리스트 형태의 데이터를 자주 사용합니다. 그래서 리스트 를 잘 다루는 것이 중요한데, 다음으로 주어진 리스트 데이터를 다뤄봅시다.😎\n",
    "\n",
    "- 다양한 데이터를 수집해서 아래와 같은 num_list를 얻었습니다.\n",
    "- 하지만 우리에게 필요한 데이터는 홀수 데이터입니다.\n",
    "- 그렇다면 num_list 가 홀수인 데이터만 출력하도록 하는 함수를 작성해보세요."
   ]
  },
  {
   "cell_type": "code",
   "execution_count": 2,
   "id": "97f27a3b-79d0-4fcf-9023-a1b64fb3d468",
   "metadata": {
    "canvas": {
     "comments": [],
     "componentType": "CodeCell",
     "copiedOriginId": null,
     "diskcache": false,
     "headerColor": "inherit",
     "id": "9031b415-0104-4fba-8ae2-14595d309743",
     "isComponent": false,
     "name": "",
     "parents": []
    }
   },
   "outputs": [
    {
     "name": "stdout",
     "output_type": "stream",
     "text": [
      "[1, 5, 7, 15, 29]\n"
     ]
    }
   ],
   "source": [
    "# 주어진 리스트\n",
    "num_list = [1,5,7,15,16,22,28,29]\n",
    "def get_odd_num(num_list):\n",
    "    b = [i for i in num_list if i % 2 == 1]\n",
    "    return b\n",
    "print(get_odd_num(num_list))"
   ]
  }
 ],
 "metadata": {
  "canvas": {
   "colorPalette": [
    "inherit",
    "inherit",
    "inherit",
    "inherit",
    "inherit",
    "inherit",
    "inherit",
    "inherit",
    "inherit",
    "inherit"
   ],
   "parameters": [],
   "version": "1.0"
  },
  "kernelspec": {
   "display_name": "Python 3.9\n(Link Desktop)",
   "language": "python",
   "name": "python3"
  },
  "language_info": {
   "codemirror_mode": {
    "name": "ipython",
    "version": 3
   },
   "file_extension": ".py",
   "mimetype": "text/x-python",
   "name": "python",
   "nbconvert_exporter": "python",
   "pygments_lexer": "ipython3",
   "version": "3.9.12"
  }
 },
 "nbformat": 4,
 "nbformat_minor": 5
}
