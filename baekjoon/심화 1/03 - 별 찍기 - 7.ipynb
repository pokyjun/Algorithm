{
 "cells": [
  {
   "cell_type": "markdown",
   "id": "cd0b64a2-8f98-424e-a70d-7d0fb56a0461",
   "metadata": {},
   "source": [
    "### 문제\n",
    "***\n",
    "예제를 보고 규칙을 유추한 뒤에 별을 찍어 보세요.\n",
    "\n",
    "### 입력\n",
    "***\n",
    "첫째 줄에 N(1 ≤ N ≤ 100)이 주어진다.\n",
    "\n",
    "### 출력\n",
    "***\n",
    "첫째 줄부터 2×N-1번째 줄까지 차례대로 별을 출력한다."
   ]
  },
  {
   "cell_type": "code",
   "execution_count": 1,
   "id": "71f39e98-0ae7-4664-ab9c-e28e5c7148c4",
   "metadata": {},
   "outputs": [
    {
     "name": "stdin",
     "output_type": "stream",
     "text": [
      " 5\n"
     ]
    },
    {
     "name": "stdout",
     "output_type": "stream",
     "text": [
      "    *\n",
      "   ***\n",
      "  *****\n",
      " *******\n",
      "*********\n",
      " *******\n",
      "  *****\n",
      "   ***\n",
      "    *\n"
     ]
    }
   ],
   "source": [
    "n = int(input())\n",
    "\n",
    "# 윗 부분 출력\n",
    "for i in range(n):\n",
    "    for j in range(n-i-1):\n",
    "        print(\" \", end=\"\") # 공백\n",
    "    for k in range(2*i+1):\n",
    "        print(\"*\", end=\"\") # 별의 수\n",
    "    print()\n",
    "\n",
    "# 아랫 부분 출력\n",
    "for i in range(n-2, -1, -1):\n",
    "    for j in range(n-i-1):\n",
    "        print(\" \", end=\"\") # 공백\n",
    "    for k in range(2*i+1):\n",
    "        print(\"*\", end=\"\") # 별의 수\n",
    "    print()\n",
    "    \n",
    "'''\n",
    "예제 입력\n",
    "5\n",
    "'''"
   ]
  }
 ],
 "metadata": {
  "kernelspec": {
   "display_name": "Python 3 (ipykernel)",
   "language": "python",
   "name": "python3"
  },
  "language_info": {
   "codemirror_mode": {
    "name": "ipython",
    "version": 3
   },
   "file_extension": ".py",
   "mimetype": "text/x-python",
   "name": "python",
   "nbconvert_exporter": "python",
   "pygments_lexer": "ipython3",
   "version": "3.9.7"
  }
 },
 "nbformat": 4,
 "nbformat_minor": 5
}
