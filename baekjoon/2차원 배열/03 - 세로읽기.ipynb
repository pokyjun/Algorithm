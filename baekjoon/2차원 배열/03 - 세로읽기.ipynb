{
 "cells": [
  {
   "cell_type": "markdown",
   "id": "7621fcd8-33fd-4b4b-80b2-5045e4cb68ab",
   "metadata": {},
   "source": [
    "### 문제\n",
    "***\n",
    "아직 글을 모르는 영석이가 벽에 걸린 칠판에 자석이 붙어있는 글자들을 붙이는 장난감을 가지고 놀고 있다. \n",
    "\n",
    "이 장난감에 있는 글자들은 영어 대문자 ‘A’부터 ‘Z’, 영어 소문자 ‘a’부터 ‘z’, 숫자 ‘0’부터 ‘9’이다. 영석이는 칠판에 글자들을 수평으로 일렬로 붙여서 단어를 만든다. 다시 그 아래쪽에 글자들을 붙여서 또 다른 단어를 만든다. 이런 식으로 다섯 개의 단어를 만든다. 아래 그림 1은 영석이가 칠판에 붙여 만든 단어들의 예이다. \n",
    "\n",
    ">A A B C D D  \n",
    "a f z z   \n",
    "0 9 1 2 1  \n",
    "a 8 E W g 6  \n",
    "P 5 h 3 k x  \n",
    "\n",
    "\n",
    "한 줄의 단어는 글자들을 빈칸 없이 연속으로 나열해서 최대 15개의 글자들로 이루어진다. 또한 만들어진 다섯 개의 단어들의 글자 개수는 서로 다를 수 있다. \n",
    "\n",
    "심심해진 영석이는 칠판에 만들어진 다섯 개의 단어를 세로로 읽으려 한다. 세로로 읽을 때, 각 단어의 첫 번째 글자들을 위에서 아래로 세로로 읽는다. 다음에 두 번째 글자들을 세로로 읽는다. 이런 식으로 왼쪽에서 오른쪽으로 한 자리씩 이동 하면서 동일한 자리의 글자들을 세로로 읽어 나간다. 위의 그림 1의 다섯 번째 자리를 보면 두 번째 줄의 다섯 번째 자리의 글자는 없다. 이런 경우처럼 세로로 읽을 때 해당 자리의 글자가 없으면, 읽지 않고 그 다음 글자를 계속 읽는다. 그림 1의 다섯 번째 자리를 세로로 읽으면 D1gk로 읽는다. \n",
    "\n",
    "그림 1에서 영석이가 세로로 읽은 순서대로 글자들을 공백 없이 출력하면 다음과 같다:\n",
    "\n",
    "Aa0aPAf985Bz1EhCz2W3D1gkD6x\n",
    "\n",
    "칠판에 붙여진 단어들이 주어질 때, 영석이가 세로로 읽은 순서대로 글자들을 출력하는 프로그램을 작성하시오.\n",
    "\n",
    "### 입력\n",
    "***\n",
    "총 다섯줄의 입력이 주어진다. 각 줄에는 최소 1개, 최대 15개의 글자들이 빈칸 없이 연속으로 주어진다. 주어지는 글자는 영어 대문자 ‘A’부터 ‘Z’, 영어 소문자 ‘a’부터 ‘z’, 숫자 ‘0’부터 ‘9’ 중 하나이다. 각 줄의 시작과 마지막에 빈칸은 없다.\n",
    "\n",
    "### 출력\n",
    "***\n",
    "영석이가 세로로 읽은 순서대로 글자들을 출력한다. 이때, 글자들을 공백 없이 연속해서 출력한다. "
   ]
  },
  {
   "cell_type": "code",
   "execution_count": 1,
   "id": "5d03c227-fe1b-4e04-9454-72519c8e6f18",
   "metadata": {},
   "outputs": [
    {
     "name": "stdin",
     "output_type": "stream",
     "text": [
      " AABCDD\n",
      " afzz\n",
      " 09121\n",
      " a8EWg6\n",
      " P5h3kx\n"
     ]
    },
    {
     "name": "stdout",
     "output_type": "stream",
     "text": [
      "Aa0aPAf985Bz1EhCz2W3D1gkD6x\n"
     ]
    }
   ],
   "source": [
    "# 리스트\n",
    "a = []\n",
    "for _ in range(5):\n",
    "    x = list(input())\n",
    "    a.append(x)\n",
    "\n",
    "# 최댓값 찾기\n",
    "max_len = 0\n",
    "for i in a:\n",
    "    if len(i) < max_len:\n",
    "        continue\n",
    "    else:\n",
    "        max_len = 0 \n",
    "        max_len += len(i)    \n",
    "\n",
    "# 패딩\n",
    "for i in range(len(a)):\n",
    "    for j in range(max_len):\n",
    "        if len(a[i]) < j+1:\n",
    "            a[i].append(' ')\n",
    "        else:\n",
    "            pass\n",
    "# 출력    \n",
    "result = ''\n",
    "for i in range(max_len):\n",
    "    for j in range(len(a)):\n",
    "        result += a[j][i]\n",
    "        \n",
    "result = result.replace(' ', '')\n",
    "print(result)\n",
    "\n",
    "'''\n",
    "예제 입력\n",
    "AABCDD\n",
    "afzz\n",
    "09121\n",
    "a8EWg6\n",
    "P5h3kx\n",
    "'''"
   ]
  }
 ],
 "metadata": {
  "kernelspec": {
   "display_name": "Python 3 (ipykernel)",
   "language": "python",
   "name": "python3"
  },
  "language_info": {
   "codemirror_mode": {
    "name": "ipython",
    "version": 3
   },
   "file_extension": ".py",
   "mimetype": "text/x-python",
   "name": "python",
   "nbconvert_exporter": "python",
   "pygments_lexer": "ipython3",
   "version": "3.9.13"
  }
 },
 "nbformat": 4,
 "nbformat_minor": 5
}
