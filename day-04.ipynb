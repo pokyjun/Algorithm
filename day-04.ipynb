{
 "cells": [
  {
   "cell_type": "markdown",
   "id": "ba169b10-a380-43c8-9475-cce6642b8949",
   "metadata": {
    "canvas": {
     "comments": [],
     "componentType": "CodeCell",
     "copiedOriginId": null,
     "diskcache": false,
     "headerColor": "inherit",
     "id": "dec1041e-8af6-4ca5-bff1-0372e91ca745",
     "isComponent": false,
     "name": "",
     "parents": []
    },
    "tags": []
   },
   "source": [
    "Q. 두개의 납품처에서 각각 과일과 야채들이 납품되었습니다. 이를 각각 물 품의 갯수를 나타내는 2개의 딕셔너리로 정리했습니다. 물품을 정리하기 위해서 2 개의 딕셔너리 객체를 합쳐 출력하는 함수를 제작하세요.😎\n",
    "\n",
    "- 중복되는 물품은 합쳐서 표시하세요.\n",
    "- 각 딕셔너리 데이터의 데이터의 키값을 이용해 중복을 확인해보세요."
   ]
  },
  {
   "cell_type": "code",
   "execution_count": 1,
   "id": "667ea42b-6095-4073-a899-053d6c1ea010",
   "metadata": {
    "canvas": {
     "comments": [],
     "componentType": "CodeCell",
     "copiedOriginId": null,
     "diskcache": false,
     "headerColor": "inherit",
     "id": "f062d2b5-87e7-46d2-be69-aeb4eb102af0",
     "isComponent": false,
     "name": "",
     "parents": []
    }
   },
   "outputs": [
    {
     "name": "stdout",
     "output_type": "stream",
     "text": [
      "{'사과': 35, '배': 30, '감': 35, '포도': 10, '귤': 25}\n"
     ]
    }
   ],
   "source": [
    "from collections import Counter\n",
    "dict_first = {'사과':30, '배':15, '감':10, '포도':10}\n",
    "dict_second = {'사과':5, '감':25, '배':15, '귤':25}\n",
    "def merge_dict(dict_first, dict_second):\n",
    "    print(dict(Counter(dict_first) + Counter(dict_second)))\n",
    "merge_dict(dict_first, dict_second)"
   ]
  }
 ],
 "metadata": {
  "canvas": {
   "colorPalette": [
    "inherit",
    "inherit",
    "inherit",
    "inherit",
    "inherit",
    "inherit",
    "inherit",
    "inherit",
    "inherit",
    "inherit"
   ],
   "parameters": [],
   "version": "1.0"
  },
  "kernelspec": {
   "display_name": "Python 3.9\n(Link Desktop)",
   "language": "python",
   "name": "python3"
  },
  "language_info": {
   "codemirror_mode": {
    "name": "ipython",
    "version": 3
   },
   "file_extension": ".py",
   "mimetype": "text/x-python",
   "name": "python",
   "nbconvert_exporter": "python",
   "pygments_lexer": "ipython3",
   "version": "3.9.12"
  }
 },
 "nbformat": 4,
 "nbformat_minor": 5
}
