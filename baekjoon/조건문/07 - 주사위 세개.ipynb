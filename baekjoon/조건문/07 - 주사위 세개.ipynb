{
 "cells": [
  {
   "cell_type": "markdown",
   "id": "b1bf6b70-7ac0-4aaf-902a-f97f6ffdb4b9",
   "metadata": {
    "canvas": {
     "comments": [],
     "componentType": "CodeCell",
     "copiedOriginId": null,
     "diskcache": false,
     "headerColor": "inherit",
     "id": "f2028ba1-05ac-4246-917e-a0aa13e76a27",
     "isComponent": false,
     "name": "",
     "parents": []
    },
    "tags": []
   },
   "source": [
    "### 문제\n",
    "***\n",
    "1에서부터 6까지의 눈을 가진 3개의 주사위를 던져서 다음과 같은 규칙에 따라 상금을 받는 게임이 있다. \n",
    "\n",
    "1. 같은 눈이 3개가 나오면 10,000원+(같은 눈)×1,000원의 상금을 받게 된다. \n",
    "2. 같은 눈이 2개만 나오는 경우에는 1,000원+(같은 눈)×100원의 상금을 받게 된다. \n",
    "3. 모두 다른 눈이 나오는 경우에는 (그 중 가장 큰 눈)×100원의 상금을 받게 된다.  \n",
    "\n",
    "예를 들어, 3개의 눈 3, 3, 6이 주어지면 상금은 1,000+3×100으로 계산되어 1,300원을 받게 된다. 또 3개의 눈이 2, 2, 2로 주어지면 10,000+2×1,000 으로 계산되어 12,000원을 받게 된다. 3개의 눈이 6, 2, 5로 주어지면 그중 가장 큰 값이 6이므로 6×100으로 계산되어 600원을 상금으로 받게 된다.\n",
    "\n",
    "3개 주사위의 나온 눈이 주어질 때, 상금을 계산하는 프로그램을 작성 하시오.\n",
    "\n",
    "### 입력\n",
    "***\n",
    "첫째 줄에 3개의 눈이 빈칸을 사이에 두고 각각 주어진다. \n",
    "\n",
    "### 출력\n",
    "***\n",
    "첫째 줄에 게임의 상금을 출력 한다."
   ]
  },
  {
   "cell_type": "code",
   "execution_count": 1,
   "id": "3370fad1-2730-4b62-b2e4-35cbb8e92abe",
   "metadata": {
    "canvas": {
     "comments": [],
     "componentType": "CodeCell",
     "copiedOriginId": null,
     "diskcache": false,
     "headerColor": "inherit",
     "id": "e82decaf-4e9c-407c-8bbc-8913a7862096",
     "isComponent": false,
     "name": "",
     "parents": []
    }
   },
   "outputs": [
    {
     "name": "stdin",
     "output_type": "stream",
     "text": [
      " 3 3 6\n"
     ]
    },
    {
     "name": "stdout",
     "output_type": "stream",
     "text": [
      "1300\n"
     ]
    }
   ],
   "source": [
    "a,b,c = list(map(int, input().split(\" \")))\n",
    "if a == b == c:\n",
    "    print(10000 + a * 1000)\n",
    "    \n",
    "elif a == b:\n",
    "    print(1000 + a * 100)\n",
    "elif a == c:\n",
    "    print(1000 + a * 100)\n",
    "elif b == c:\n",
    "    print(1000 + b * 100)\n",
    "\n",
    "else:\n",
    "    m = max(a, b, c)\n",
    "    print(m * 100)"
   ]
  },
  {
   "cell_type": "code",
   "execution_count": 2,
   "id": "e71deddb-31e8-4ac3-8f69-07e4adb26a98",
   "metadata": {
    "canvas": {
     "comments": [],
     "componentType": "CodeCell",
     "copiedOriginId": null,
     "diskcache": false,
     "headerColor": "inherit",
     "id": "f1ef8c56-7b27-4146-977a-536300f0d08f",
     "isComponent": false,
     "name": "",
     "parents": []
    }
   },
   "outputs": [
    {
     "name": "stdin",
     "output_type": "stream",
     "text": [
      " 2 2 2\n"
     ]
    },
    {
     "name": "stdout",
     "output_type": "stream",
     "text": [
      "12000\n"
     ]
    }
   ],
   "source": [
    "a,b,c = list(map(int, input().split(\" \")))\n",
    "if a == b == c:\n",
    "    print(10000 + a * 1000)\n",
    "    \n",
    "elif a == b:\n",
    "    print(1000 + a * 100)\n",
    "elif a == c:\n",
    "    print(1000 + a * 100)\n",
    "elif b == c:\n",
    "    print(1000 + b * 100)\n",
    "\n",
    "else:\n",
    "    m = max(a, b, c)\n",
    "    print(m * 100)"
   ]
  },
  {
   "cell_type": "code",
   "execution_count": 3,
   "id": "2c1d1ba4-66e3-40d7-ab6b-281ec67bab07",
   "metadata": {
    "canvas": {
     "comments": [],
     "componentType": "CodeCell",
     "copiedOriginId": null,
     "diskcache": false,
     "headerColor": "inherit",
     "id": "5ef4dbf2-e766-43bb-99f2-2ec2d79e82b1",
     "isComponent": false,
     "name": "",
     "parents": []
    }
   },
   "outputs": [
    {
     "name": "stdin",
     "output_type": "stream",
     "text": [
      " 6 2 5\n"
     ]
    },
    {
     "name": "stdout",
     "output_type": "stream",
     "text": [
      "600\n"
     ]
    }
   ],
   "source": [
    "a,b,c = list(map(int, input().split(\" \")))\n",
    "if a == b == c:\n",
    "    print(10000 + a * 1000)\n",
    "    \n",
    "elif a == b:\n",
    "    print(1000 + a * 100)\n",
    "elif a == c:\n",
    "    print(1000 + a * 100)\n",
    "elif b == c:\n",
    "    print(1000 + b * 100)\n",
    "\n",
    "else:\n",
    "    m = max(a, b, c)\n",
    "    print(m * 100)"
   ]
  }
 ],
 "metadata": {
  "canvas": {
   "colorPalette": [
    "inherit",
    "inherit",
    "inherit",
    "inherit",
    "inherit",
    "inherit",
    "inherit",
    "inherit",
    "inherit",
    "inherit"
   ],
   "parameters": [],
   "version": "1.0"
  },
  "kernelspec": {
   "display_name": "Python 3 (ipykernel)",
   "language": "python",
   "name": "python3"
  },
  "language_info": {
   "codemirror_mode": {
    "name": "ipython",
    "version": 3
   },
   "file_extension": ".py",
   "mimetype": "text/x-python",
   "name": "python",
   "nbconvert_exporter": "python",
   "pygments_lexer": "ipython3",
   "version": "3.9.7"
  }
 },
 "nbformat": 4,
 "nbformat_minor": 5
}
