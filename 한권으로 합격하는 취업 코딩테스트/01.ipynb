{
 "cells": [
  {
   "cell_type": "markdown",
   "id": "8b5eb38f-d4b9-4254-bf8a-f79f37cad441",
   "metadata": {
    "canvas": {
     "comments": [],
     "componentType": "CodeCell",
     "copiedOriginId": null,
     "diskcache": false,
     "headerColor": "inherit",
     "id": "5d569853-7eb0-4227-8e58-6f02dfafa9ed",
     "isComponent": false,
     "name": "",
     "parents": []
    }
   },
   "source": [
    "# 입출력"
   ]
  },
  {
   "cell_type": "code",
   "execution_count": 6,
   "id": "3d0535fe-d904-4f72-aedd-9bcd2c8b74ee",
   "metadata": {
    "canvas": {
     "comments": [],
     "componentType": "CodeCell",
     "copiedOriginId": null,
     "diskcache": false,
     "headerColor": "inherit",
     "id": "a272ec81-68bc-4efd-b68b-8e797c1e3b96",
     "isComponent": false,
     "name": "",
     "parents": []
    }
   },
   "outputs": [
    {
     "name": "stdin",
     "output_type": "stream",
     "text": [
      " 이승준\n",
      " 23\n",
      " 10 100\n"
     ]
    },
    {
     "name": "stdout",
     "output_type": "stream",
     "text": [
      "이승준 23 10 100\n"
     ]
    }
   ],
   "source": [
    "name = input()\n",
    "n = int(input())\n",
    "a,b = map(int, input().split())\n",
    "print(name, n, a, b)"
   ]
  },
  {
   "cell_type": "markdown",
   "id": "c4d1cd2d-c5db-4465-ae46-0c8ae956fc6d",
   "metadata": {
    "canvas": {
     "comments": [],
     "componentType": "CodeCell",
     "copiedOriginId": null,
     "diskcache": false,
     "headerColor": "inherit",
     "id": "baad232e-bbf6-41d1-9105-7e6923fffb1e",
     "isComponent": false,
     "name": "",
     "parents": []
    }
   },
   "source": [
    "# 빠른 입출력\n",
    "입출력 데이터의 수가 10,00개 이상으로 너무 많다면 빠른 입출력 함수를 사용해야 한다. -> 시간 초과  \n",
    "파이썬은 input()대신 sys.stdin.readline()을 사용하면 된다.  \n",
    "매번 sys.stdin.readline()을 치기 귀찮다면, 아예 미리 input을 sys.stdin.readline으로 선언해두고 input()을 그대로 사용하듯 해도 된다."
   ]
  },
  {
   "cell_type": "code",
   "execution_count": 8,
   "id": "312a1171-e4a1-46f8-86d9-7b6cf03470c9",
   "metadata": {
    "canvas": {
     "comments": [],
     "componentType": "CodeCell",
     "copiedOriginId": null,
     "diskcache": false,
     "headerColor": "inherit",
     "id": "ab1d1e60-58a7-46a1-a3b3-0df7dcc4d56b",
     "isComponent": false,
     "name": "",
     "parents": []
    }
   },
   "outputs": [],
   "source": [
    "import sys\n",
    "input = sys.stdin.readline\n",
    "for _ in range(100000):\n",
    "    n = input()\n",
    "    # print(n)"
   ]
  }
 ],
 "metadata": {
  "canvas": {
   "colorPalette": [
    "inherit",
    "inherit",
    "inherit",
    "inherit",
    "inherit",
    "inherit",
    "inherit",
    "inherit",
    "inherit",
    "inherit"
   ],
   "parameters": [],
   "version": "1.0"
  },
  "kernelspec": {
   "display_name": "Python 3.9\n(Link Desktop)",
   "language": "python",
   "name": "python3"
  },
  "language_info": {
   "codemirror_mode": {
    "name": "ipython",
    "version": 3
   },
   "file_extension": ".py",
   "mimetype": "text/x-python",
   "name": "python",
   "nbconvert_exporter": "python",
   "pygments_lexer": "ipython3",
   "version": "3.9.12"
  }
 },
 "nbformat": 4,
 "nbformat_minor": 5
}
