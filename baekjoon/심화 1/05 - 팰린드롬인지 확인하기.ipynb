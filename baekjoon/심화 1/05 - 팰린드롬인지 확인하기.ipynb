{
 "cells": [
  {
   "cell_type": "markdown",
   "id": "dc4f8da1-a4d9-4a93-a901-c99c57e04861",
   "metadata": {},
   "source": [
    "### 문제\n",
    "***\n",
    "알파벳 소문자로만 이루어진 단어가 주어진다. 이때, 이 단어가 팰린드롬인지 아닌지 확인하는 프로그램을 작성하시오.\n",
    "\n",
    "팰린드롬이란 앞으로 읽을 때와 거꾸로 읽을 때 똑같은 단어를 말한다. \n",
    "\n",
    "**level, noon**은 팰린드롬이고, **baekjoon, online, judge**는 팰린드롬이 아니다.\n",
    "\n",
    "### 입력\n",
    "***\n",
    "첫째 줄에 단어가 주어진다. 단어의 길이는 1보다 크거나 같고, 100보다 작거나 같으며, 알파벳 소문자로만 이루어져 있다.\n",
    "\n",
    "### 출력\n",
    "***\n",
    "첫째 줄에 팰린드롬이면 1, 아니면 0을 출력한다."
   ]
  },
  {
   "cell_type": "code",
   "execution_count": 1,
   "id": "86406d21-0840-4a03-a066-22d1ae386f11",
   "metadata": {},
   "outputs": [
    {
     "name": "stdin",
     "output_type": "stream",
     "text": [
      " level\n"
     ]
    },
    {
     "name": "stdout",
     "output_type": "stream",
     "text": [
      "1\n"
     ]
    }
   ],
   "source": [
    "n = input()\n",
    "m = n[::-1]\n",
    "\n",
    "if n == m:\n",
    "    print(1)\n",
    "else:\n",
    "    print(0)\n",
    "    \n",
    "'''\n",
    "예제 입력\n",
    "level\n",
    "'''"
   ]
  },
  {
   "cell_type": "code",
   "execution_count": 2,
   "id": "689b3f93-4d18-4d17-a558-3c8697ac82c8",
   "metadata": {},
   "outputs": [
    {
     "name": "stdin",
     "output_type": "stream",
     "text": [
      " baekjoon\n"
     ]
    },
    {
     "name": "stdout",
     "output_type": "stream",
     "text": [
      "0\n"
     ]
    }
   ],
   "source": [
    "n = input()\n",
    "m = n[::-1]\n",
    "\n",
    "if n == m:\n",
    "    print(1)\n",
    "else:\n",
    "    print(0)\n",
    "    \n",
    "'''\n",
    "baekjoon\n",
    "'''"
   ]
  }
 ],
 "metadata": {
  "kernelspec": {
   "display_name": "Python 3 (ipykernel)",
   "language": "python",
   "name": "python3"
  },
  "language_info": {
   "codemirror_mode": {
    "name": "ipython",
    "version": 3
   },
   "file_extension": ".py",
   "mimetype": "text/x-python",
   "name": "python",
   "nbconvert_exporter": "python",
   "pygments_lexer": "ipython3",
   "version": "3.9.7"
  }
 },
 "nbformat": 4,
 "nbformat_minor": 5
}
