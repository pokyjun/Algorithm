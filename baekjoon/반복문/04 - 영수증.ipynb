{
 "cells": [
  {
   "cell_type": "markdown",
   "id": "1dc8fb06-2ff2-4506-821e-c8e68c3b7cee",
   "metadata": {
    "canvas": {
     "comments": [],
     "componentType": "CodeCell",
     "copiedOriginId": null,
     "diskcache": false,
     "headerColor": "inherit",
     "id": "448d2dbb-0c2f-4f98-9cac-52d20189b32f",
     "isComponent": false,
     "name": "",
     "parents": []
    },
    "tags": []
   },
   "source": [
    "### 문제\n",
    "***\n",
    "준원이는 저번 주에 살면서 처음으로 코스트코를 가 봤다. 정말 멋졌다. 그런데, 몇 개 담지도 않았는데 수상하게 높은 금액이 나오는 것이다! 준원이는 영수증을 보면서 정확하게 계산된 것이 맞는지 확인해보려 한다.\n",
    "\n",
    "영수증에 적힌,\n",
    "\n",
    "구매한 각 물건의 가격과 개수\n",
    "구매한 물건들의 총 금액\n",
    "을 보고, 구매한 물건의 가격과 개수로 계산한 총 금액이 영수증에 적힌 총 금액과 일치하는지 검사해보자.\n",
    "\n",
    "### 입력\n",
    "***\n",
    "첫째 줄에는 영수증에 적힌 총 금액 \n",
    "$X$가 주어진다.\n",
    "\n",
    "둘째 줄에는 영수증에 적힌 구매한 물건의 종류의 수 \n",
    "$N$이 주어진다.\n",
    "\n",
    "이후 \n",
    "$N$개의 줄에는 각 물건의 가격 \n",
    "$a$와 개수 \n",
    "$b$가 공백을 사이에 두고 주어진다.\n",
    "\n",
    "### 출력\n",
    "***\n",
    "구매한 물건의 가격과 개수로 계산한 총 금액이 영수증에 적힌 총 금액과 일치하면 Yes를 출력한다. 일치하지 않는다면 No를 출력한다."
   ]
  },
  {
   "cell_type": "code",
   "execution_count": 1,
   "id": "15a254fd-8f51-4cb8-859b-6b0edeb521b6",
   "metadata": {
    "canvas": {
     "comments": [],
     "componentType": "CodeCell",
     "copiedOriginId": null,
     "diskcache": false,
     "headerColor": "inherit",
     "id": "d729268d-b59a-42cf-9248-a58439e8f07b",
     "isComponent": false,
     "name": "",
     "parents": []
    }
   },
   "outputs": [
    {
     "name": "stdin",
     "output_type": "stream",
     "text": [
      " 260000\n",
      " 4\n",
      " 20000 5\n",
      " 30000 2\n",
      " 10000 6\n",
      " 5000 8\n"
     ]
    },
    {
     "name": "stdout",
     "output_type": "stream",
     "text": [
      "Yes\n"
     ]
    }
   ],
   "source": [
    "x = int(input())\n",
    "n = int(input())\n",
    "sum = 0\n",
    "for i in range(n):\n",
    "    a,b = map(int, input().split())\n",
    "    sum += a * b\n",
    "if sum == x:\n",
    "    print('Yes')\n",
    "else:\n",
    "    print('No')"
   ]
  },
  {
   "cell_type": "code",
   "execution_count": 2,
   "id": "e164de6b-f7c2-4699-a54c-ad2fa9d7543f",
   "metadata": {
    "canvas": {
     "comments": [],
     "componentType": "CodeCell",
     "copiedOriginId": null,
     "diskcache": false,
     "headerColor": "inherit",
     "id": "7498494e-d23f-45b1-9a27-9f9a2ca78f63",
     "isComponent": false,
     "name": "",
     "parents": []
    }
   },
   "outputs": [
    {
     "name": "stdin",
     "output_type": "stream",
     "text": [
      " 250000\n",
      " 4\n",
      " 20000 5\n",
      " 30000 2\n",
      " 10000 6\n",
      " 5000 8\n"
     ]
    },
    {
     "name": "stdout",
     "output_type": "stream",
     "text": [
      "No\n"
     ]
    }
   ],
   "source": [
    "x = int(input())\n",
    "n = int(input())\n",
    "sum = 0\n",
    "for i in range(n):\n",
    "    a,b = map(int, input().split())\n",
    "    sum += a * b\n",
    "if sum == x:\n",
    "    print('Yes')\n",
    "else:\n",
    "    print('No')"
   ]
  }
 ],
 "metadata": {
  "canvas": {
   "colorPalette": [
    "inherit",
    "inherit",
    "inherit",
    "inherit",
    "inherit",
    "inherit",
    "inherit",
    "inherit",
    "inherit",
    "inherit"
   ],
   "parameters": [],
   "version": "1.0"
  },
  "kernelspec": {
   "display_name": "Python 3.9\n(Link Desktop)",
   "language": "python",
   "name": "python3"
  },
  "language_info": {
   "codemirror_mode": {
    "name": "ipython",
    "version": 3
   },
   "file_extension": ".py",
   "mimetype": "text/x-python",
   "name": "python",
   "nbconvert_exporter": "python",
   "pygments_lexer": "ipython3",
   "version": "3.9.12"
  }
 },
 "nbformat": 4,
 "nbformat_minor": 5
}
