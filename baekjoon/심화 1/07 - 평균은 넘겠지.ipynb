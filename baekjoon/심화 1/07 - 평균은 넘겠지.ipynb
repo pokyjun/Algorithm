{
 "cells": [
  {
   "cell_type": "markdown",
   "id": "2aee4a88-74fe-4cc6-864d-c5f114539304",
   "metadata": {},
   "source": [
    "### 문제\n",
    "***\n",
    "대학생 새내기들의 90%는 자신이 반에서 평균은 넘는다고 생각한다. 당신은 그들에게 슬픈 진실을 알려줘야 한다.\n",
    "\n",
    "### 입력\n",
    "***\n",
    "첫째 줄에는 테스트 케이스의 개수 C가 주어진다.\n",
    "\n",
    "둘째 줄부터 각 테스트 케이스마다 학생의 수 N(1 ≤ N ≤ 1000, N은 정수)이 첫 수로 주어지고, 이어서 N명의 점수가 주어진다. 점수는 0보다 크거나 같고, 100보다 작거나 같은 정수이다.\n",
    "\n",
    "### 출력\n",
    "***\n",
    "각 케이스마다 한 줄씩 평균을 넘는 학생들의 비율을 반올림하여 소수점 셋째 자리까지 출력한다."
   ]
  },
  {
   "cell_type": "code",
   "execution_count": 1,
   "id": "4452c76f-65ce-4f63-aaf7-d77c4bb0b1b4",
   "metadata": {},
   "outputs": [
    {
     "name": "stdin",
     "output_type": "stream",
     "text": [
      " 5\n",
      " 5 50 50 70 80 100\n"
     ]
    },
    {
     "name": "stdout",
     "output_type": "stream",
     "text": [
      "40.000%\n"
     ]
    },
    {
     "name": "stdin",
     "output_type": "stream",
     "text": [
      " 7 100 95 90 80 70 60 50\n"
     ]
    },
    {
     "name": "stdout",
     "output_type": "stream",
     "text": [
      "57.143%\n"
     ]
    },
    {
     "name": "stdin",
     "output_type": "stream",
     "text": [
      " 3 70 90 80\n"
     ]
    },
    {
     "name": "stdout",
     "output_type": "stream",
     "text": [
      "33.333%\n"
     ]
    },
    {
     "name": "stdin",
     "output_type": "stream",
     "text": [
      " 3 70 90 81\n"
     ]
    },
    {
     "name": "stdout",
     "output_type": "stream",
     "text": [
      "66.667%\n"
     ]
    },
    {
     "name": "stdin",
     "output_type": "stream",
     "text": [
      " 9 100 99 98 97 96 95 94 93 91\n"
     ]
    },
    {
     "name": "stdout",
     "output_type": "stream",
     "text": [
      "55.556%\n"
     ]
    }
   ],
   "source": [
    "c = int(input())\n",
    "\n",
    "for _ in range(c):\n",
    "    l = list(map(int, input().split()))\n",
    "    a = l[0] # list 0번째 \n",
    "    l.pop(0) # list 0번째 삭제\n",
    "    \n",
    "    avg = sum(l) / a\n",
    "    \n",
    "    count = 0\n",
    "    \n",
    "    for i in l:\n",
    "        if i > avg:\n",
    "            count += 1\n",
    "    \n",
    "    print('{:.3f}%'.format((100 / len(l)) * count))\n",
    "    \n",
    "'''\n",
    "예제 입력\n",
    "5\n",
    "5 50 50 70 80 100\n",
    "7 100 95 90 80 70 60 50\n",
    "3 70 90 80\n",
    "3 70 90 81\n",
    "9 100 99 98 97 96 95 94 93 91\n",
    "'''"
   ]
  }
 ],
 "metadata": {
  "kernelspec": {
   "display_name": "Python 3 (ipykernel)",
   "language": "python",
   "name": "python3"
  },
  "language_info": {
   "codemirror_mode": {
    "name": "ipython",
    "version": 3
   },
   "file_extension": ".py",
   "mimetype": "text/x-python",
   "name": "python",
   "nbconvert_exporter": "python",
   "pygments_lexer": "ipython3",
   "version": "3.9.13"
  }
 },
 "nbformat": 4,
 "nbformat_minor": 5
}
