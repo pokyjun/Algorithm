{
 "cells": [
  {
   "cell_type": "markdown",
   "id": "c78bd06e-d84e-4424-81dd-f1a447f1252e",
   "metadata": {},
   "source": [
    "### 문제\n",
    "***\n",
    "그룹 단어란 단어에 존재하는 모든 문자에 대해서, 각 문자가 연속해서 나타나는 경우만을 말한다. 예를 들면, ccazzzzbb는 c, a, z, b가 모두 연속해서 나타나고, kin도 k, i, n이 연속해서 나타나기 때문에 그룹 단어이지만, aabbbccb는 b가 떨어져서 나타나기 때문에 그룹 단어가 아니다.\n",
    "\n",
    "단어 N개를 입력으로 받아 그룹 단어의 개수를 출력하는 프로그램을 작성하시오.\n",
    "\n",
    "### 입력\n",
    "***\n",
    "첫째 줄에 단어의 개수 N이 들어온다. N은 100보다 작거나 같은 자연수이다. 둘째 줄부터 N개의 줄에 단어가 들어온다. 단어는 알파벳 소문자로만 되어있고 중복되지 않으며, 길이는 최대 100이다.\n",
    "\n",
    "### 출력\n",
    "***\n",
    "첫째 줄에 그룹 단어의 개수를 출력한다. "
   ]
  },
  {
   "cell_type": "code",
   "execution_count": 1,
   "id": "7fb8b10f-9d13-4235-8c98-5b2f84a1137a",
   "metadata": {},
   "outputs": [
    {
     "name": "stdin",
     "output_type": "stream",
     "text": [
      " 3\n",
      " happy\n",
      " new\n",
      " year\n"
     ]
    },
    {
     "name": "stdout",
     "output_type": "stream",
     "text": [
      "3\n"
     ]
    }
   ],
   "source": [
    "n = int(input())\n",
    "\n",
    "count = 0\n",
    "\n",
    "for _ in range(n):\n",
    "    word = input()\n",
    "    check = []\n",
    "    group_word = True  # 그룹 단어인지 체크하는 변수\n",
    "    \n",
    "    for i in range(len(word)):\n",
    "        # 이전에 등장한 알파벳과 현재 알파벳이 같은 경우\n",
    "        if i > 0 and word[i] == word[i-1]:\n",
    "            continue\n",
    "        # 이전에 등장한 알파벳과 현재 알파벳이 다른 경우\n",
    "        if word[i] in check:\n",
    "            group_word = False\n",
    "            break\n",
    "        check.append(word[i])\n",
    "        \n",
    "    if group_word:\n",
    "        count += 1\n",
    "\n",
    "print(count)\n",
    "\n",
    "'''\n",
    "예제 입력\n",
    "3\n",
    "happy\n",
    "new\n",
    "year\n",
    "'''"
   ]
  }
 ],
 "metadata": {
  "kernelspec": {
   "display_name": "Python 3 (ipykernel)",
   "language": "python",
   "name": "python3"
  },
  "language_info": {
   "codemirror_mode": {
    "name": "ipython",
    "version": 3
   },
   "file_extension": ".py",
   "mimetype": "text/x-python",
   "name": "python",
   "nbconvert_exporter": "python",
   "pygments_lexer": "ipython3",
   "version": "3.9.13"
  }
 },
 "nbformat": 4,
 "nbformat_minor": 5
}
