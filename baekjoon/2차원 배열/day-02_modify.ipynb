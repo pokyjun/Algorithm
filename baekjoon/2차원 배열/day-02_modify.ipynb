{
 "cells": [
  {
   "cell_type": "markdown",
   "id": "4021c380-b97e-427f-a244-27709929d090",
   "metadata": {
    "canvas": {
     "comments": [],
     "componentType": "CodeCell",
     "copiedOriginId": null,
     "diskcache": false,
     "headerColor": "inherit",
     "id": "9f003be0-90e6-48f1-9707-6f1716fe0f1c",
     "isComponent": false,
     "name": "",
     "parents": []
    }
   },
   "source": [
    "Q. 데이터 처리를 위해서 문자열을 입력받았습니다. 그런데, 문자열을 받았 더니 단어 단위로 거꾸로 입력되었습니다. 이를 다시 원래대로 출력하는 함수 를 작성해보세요.😎\n",
    "\n",
    "- string 문장을 받아 단어를 역순으로 출력하는 함수를 작성하세요.\n",
    "- string 연산을 이용해보세요."
   ]
  },
  {
   "cell_type": "code",
   "execution_count": 11,
   "id": "367565dc-c45b-41f3-a6e0-d66758f80f8c",
   "metadata": {
    "canvas": {
     "comments": [],
     "componentType": "CodeCell",
     "copiedOriginId": null,
     "diskcache": false,
     "headerColor": "inherit",
     "id": "3157436b-72ee-4feb-8e9b-855f3a23d0cb",
     "isComponent": false,
     "name": "",
     "parents": []
    },
    "tags": []
   },
   "outputs": [
    {
     "name": "stdout",
     "output_type": "stream",
     "text": [
      " Where there is a will there is a way \n"
     ]
    }
   ],
   "source": [
    "sentence = 'way a is there will a is there Where'\n",
    "sentence_list = sentence.split()\n",
    "sentence_list.reverse() \n",
    "a = ' '\n",
    "for i in sentence_list:\n",
    "    a += i + ' '\n",
    "print(a)"
   ]
  },
  {
   "cell_type": "markdown",
   "id": "b4d24fc2-fee5-4768-8a7e-ff40a22c597d",
   "metadata": {
    "canvas": {
     "comments": [],
     "componentType": "CodeCell",
     "copiedOriginId": null,
     "diskcache": false,
     "headerColor": "inherit",
     "id": "356bca8c-1616-4fe4-ab60-d614436830ad",
     "isComponent": false,
     "name": "",
     "parents": []
    }
   },
   "source": [
    "# 메모\n",
    "- reverse는 값을 반환하지 않고, 단순히 해당 list를 뒤집어주기 때문에 바로 print()를 하면 'None'이 나온다  "
   ]
  },
  {
   "cell_type": "code",
   "execution_count": 13,
   "id": "59421ee5-f640-4b3c-8fbd-a89c34e1babe",
   "metadata": {
    "canvas": {
     "comments": [],
     "componentType": "CodeCell",
     "copiedOriginId": null,
     "diskcache": false,
     "headerColor": "inherit",
     "id": "41a931ba-9766-4776-924b-66b459e6c8c4",
     "isComponent": false,
     "name": "",
     "parents": []
    }
   },
   "outputs": [
    {
     "name": "stdout",
     "output_type": "stream",
     "text": [
      "None\n"
     ]
    }
   ],
   "source": [
    "sentence = 'way a is there will a is there Where'\n",
    "sentence_list = sentence.split()\n",
    "print(sentence_list.reverse())"
   ]
  },
  {
   "cell_type": "code",
   "execution_count": 12,
   "id": "742d10d9-2866-4375-a227-fe8a39ead6c9",
   "metadata": {
    "canvas": {
     "comments": [],
     "componentType": "CodeCell",
     "copiedOriginId": null,
     "diskcache": false,
     "headerColor": "inherit",
     "id": "187abc72-6600-4678-9a04-a1837d39c566",
     "isComponent": false,
     "name": "",
     "parents": []
    }
   },
   "outputs": [
    {
     "name": "stdout",
     "output_type": "stream",
     "text": [
      "['Where', 'there', 'is', 'a', 'will', 'there', 'is', 'a', 'way']\n"
     ]
    }
   ],
   "source": [
    "sentence = 'way a is there will a is there Where'\n",
    "sentence_list = sentence.split()\n",
    "sentence_list.reverse() \n",
    "print(sentence_list)"
   ]
  }
 ],
 "metadata": {
  "canvas": {
   "colorPalette": [
    "inherit",
    "inherit",
    "inherit",
    "inherit",
    "inherit",
    "inherit",
    "inherit",
    "inherit",
    "inherit",
    "inherit"
   ],
   "parameters": [],
   "version": "1.0"
  },
  "kernelspec": {
   "display_name": "Python 3",
   "language": "python",
   "name": "python3"
  },
  "language_info": {
   "codemirror_mode": {
    "name": "ipython",
    "version": 3
   },
   "file_extension": ".py",
   "mimetype": "text/x-python",
   "name": "python",
   "nbconvert_exporter": "python",
   "pygments_lexer": "ipython3",
   "version": "3.11.0 (v3.11.0:deaf509e8f, Oct 24 2022, 14:43:23) [Clang 13.0.0 (clang-1300.0.29.30)]"
  },
  "vscode": {
   "interpreter": {
    "hash": "aee8b7b246df8f9039afb4144a1f6fd8d2ca17a180786b69acc140d282b71a49"
   }
  }
 },
 "nbformat": 4,
 "nbformat_minor": 5
}
