{
 "cells": [
  {
   "cell_type": "markdown",
   "id": "09f17261-68aa-4bf4-9f0d-5f5d9d175a99",
   "metadata": {},
   "source": [
    "새로 나온 문제"
   ]
  },
  {
   "cell_type": "markdown",
   "id": "aa9528d8-55d4-4a4e-bddd-4fccc47ec339",
   "metadata": {},
   "source": [
    "### 문제\n",
    "***\n",
    "도현이는 바구니를 총 N개 가지고 있고, 각각의 바구니에는 1번부터 N번까지 번호가 매겨져 있다. 바구니에는 공이 1개씩 들어있고, 처음에는 바구니에 적혀있는 번호와 같은 번호가 적힌 공이 들어있다.\n",
    "\n",
    "도현이는 앞으로 M번 공을 바꾸려고 한다. 도현이는 공을 바꿀 바구니 2개를 선택하고, 두 바구니에 들어있는 공을 서로 교환한다.\n",
    "\n",
    "공을 어떻게 바꿀지가 주어졌을 때, M번 공을 바꾼 이후에 각 바구니에 어떤 공이 들어있는지 구하는 프로그램을 작성하시오.\n",
    "\n",
    "### 입력\n",
    "***\n",
    "첫째 줄에 N (1 ≤ N ≤ 100)과 M (1 ≤ M ≤ 100)이 주어진다.\n",
    "\n",
    "둘째 줄부터 M개의 줄에 걸쳐서 공을 교환할 방법이 주어진다. 각 방법은 두 정수 i j로 이루어져 있으며, i번 바구니와 j번 바구니에 들어있는 공을 교환한다는 뜻이다. (1 ≤ i ≤ j ≤ N)\n",
    "\n",
    "도현이는 입력으로 주어진 순서대로 공을 교환한다.\n",
    "\n",
    "### 출력\n",
    "***\n",
    "1번 바구니부터 N번 바구니에 들어있는 공의 번호를 공백으로 구분해 출력한다."
   ]
  },
  {
   "cell_type": "code",
   "execution_count": 1,
   "id": "bfcc6b5a-d6a0-4659-a94f-38a4b26dfec0",
   "metadata": {},
   "outputs": [
    {
     "name": "stdin",
     "output_type": "stream",
     "text": [
      " 5 4\n",
      " 1 2\n",
      " 3 4\n",
      " 1 4\n",
      " 2 2\n"
     ]
    },
    {
     "name": "stdout",
     "output_type": "stream",
     "text": [
      "3\n",
      "1\n",
      "4\n",
      "2\n",
      "5\n"
     ]
    }
   ],
   "source": [
    "n,m = map(int, input().split())\n",
    "\n",
    "a = [i for i in range(1, n+1)]\n",
    "\n",
    "for _ in range(m):\n",
    "    i,j = map(int, input().split())\n",
    "    a[j-1],a[i-1] = a[i-1], a[j-1] # 동시에 바꿔야 값이 똑바로 들어간다.\n",
    "    \n",
    "for i in a:\n",
    "    print(i, sep=' ') # 출력 : 3 1 4 2 5로 나와야 되는데 jupyter에서 안되나보다.    "
   ]
  },
  {
   "cell_type": "markdown",
   "id": "fb503f90-4234-476c-8818-1ca1bae51d67",
   "metadata": {},
   "source": [
    "a[j-1], a[i-1] = a[i-1], a[j-1]      \n",
    "\\# 동시에 바꿔야 값이 똑바로 들어간다.  \n",
    "\n",
    "ex)  \n",
    "a[j-1] = a[i-1]  \n",
    "a[i-1] = a[j-1]  \n",
    "\n",
    "이렇게 되면 이미 j-1번째의 값이 바뀌어있어서 똑바로 된 값이 들어가지 않는다."
   ]
  }
 ],
 "metadata": {
  "kernelspec": {
   "display_name": "Python 3 (ipykernel)",
   "language": "python",
   "name": "python3"
  },
  "language_info": {
   "codemirror_mode": {
    "name": "ipython",
    "version": 3
   },
   "file_extension": ".py",
   "mimetype": "text/x-python",
   "name": "python",
   "nbconvert_exporter": "python",
   "pygments_lexer": "ipython3",
   "version": "3.9.13"
  }
 },
 "nbformat": 4,
 "nbformat_minor": 5
}
