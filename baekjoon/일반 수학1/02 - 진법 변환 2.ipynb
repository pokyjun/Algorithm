{
 "cells": [
  {
   "cell_type": "markdown",
   "id": "69858f6c-a5d3-436c-9ac8-88818391e010",
   "metadata": {},
   "source": [
    "### 문제\n",
    "***\n",
    "10진법 수 N이 주어진다. 이 수를 B진법으로 바꿔 출력하는 프로그램을 작성하시오.\n",
    "\n",
    "10진법을 넘어가는 진법은 숫자로 표시할 수 없는 자리가 있다. 이런 경우에는 다음과 같이 알파벳 대문자를 사용한다.\n",
    "\n",
    "A: 10, B: 11, ..., F: 15, ..., Y: 34, Z: 35\n",
    "\n",
    "### 입력\n",
    "***\n",
    "첫째 줄에 N과 B가 주어진다. (2 ≤ B ≤ 36) N은 10억보다 작거나 같은 자연수이다.\n",
    "\n",
    "### 출력\n",
    "***\n",
    "첫째 줄에 10진법 수 N을 B진법으로 출력한다."
   ]
  },
  {
   "cell_type": "code",
   "execution_count": 1,
   "id": "9e417e3e-ed64-4df4-b03f-f84a53010a54",
   "metadata": {},
   "outputs": [
    {
     "name": "stdin",
     "output_type": "stream",
     "text": [
      " 60466175 36\n"
     ]
    },
    {
     "name": "stdout",
     "output_type": "stream",
     "text": [
      "ZZZZZ\n"
     ]
    }
   ],
   "source": [
    "a = {i+10 : chr(i+65) for i in range(26)} # {숫자 : 알파벳}\n",
    "\n",
    "n, b = input().split()\n",
    "b = int(b)\n",
    "\n",
    "result = ''\n",
    "\n",
    "while True:\n",
    "    n = int(n)\n",
    "    num, remainder = divmod(n, b)\n",
    "    n = num\n",
    "    if remainder >= 10:\n",
    "        result += a[remainder]\n",
    "    else:\n",
    "        result += str(remainder)\n",
    "        \n",
    "    if n==0:\n",
    "        break\n",
    "print(result[::-1])\n",
    "\n",
    "'''\n",
    "예제 입력\n",
    "60466175 36\n",
    "'''"
   ]
  },
  {
   "cell_type": "markdown",
   "id": "437402c5-9cec-460e-ad9c-d9758050389c",
   "metadata": {},
   "source": [
    "divomd    \n",
    "a,b = divmod(100,3)  \n",
    "a : 33  \n",
    "b : 1   \n",
    "a는 몫이고 b는 나머지이다. \n",
    "\n",
    "a,b = (100 // 3, 100 % 3)  \n",
    "a : 33   \n",
    "b : 1"
   ]
  }
 ],
 "metadata": {
  "kernelspec": {
   "display_name": "Python 3 (ipykernel)",
   "language": "python",
   "name": "python3"
  },
  "language_info": {
   "codemirror_mode": {
    "name": "ipython",
    "version": 3
   },
   "file_extension": ".py",
   "mimetype": "text/x-python",
   "name": "python",
   "nbconvert_exporter": "python",
   "pygments_lexer": "ipython3",
   "version": "3.10.8"
  }
 },
 "nbformat": 4,
 "nbformat_minor": 5
}
