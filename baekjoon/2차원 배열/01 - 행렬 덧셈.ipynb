{
 "cells": [
  {
   "cell_type": "markdown",
   "id": "357f3129-54c0-4230-a8f3-cecd1de143ce",
   "metadata": {},
   "source": [
    "### 문제\n",
    "***\n",
    "N*M크기의 두 행렬 A와 B가 주어졌을 때, 두 행렬을 더하는 프로그램을 작성하시오.\n",
    "\n",
    "### 입력\n",
    "***\n",
    "첫째 줄에 행렬의 크기 N 과 M이 주어진다. 둘째 줄부터 N개의 줄에 행렬 A의 원소 M개가 차례대로 주어진다. 이어서 N개의 줄에 행렬 B의 원소 M개가 차례대로 주어진다. N과 M은 100보다 작거나 같고, 행렬의 원소는 절댓값이 100보다 작거나 같은 정수이다.\n",
    "\n",
    "### 출력\n",
    "***\n",
    "첫째 줄부터 N개의 줄에 행렬 A와 B를 더한 행렬을 출력한다. 행렬의 각 원소는 공백으로 구분한다."
   ]
  },
  {
   "cell_type": "code",
   "execution_count": 1,
   "id": "8994a88c-b609-42a0-a841-4045ea6e0ecf",
   "metadata": {},
   "outputs": [
    {
     "name": "stdin",
     "output_type": "stream",
     "text": [
      " 3 3\n",
      " 1 1 1\n",
      " 2 2 2\n",
      " 0 1 0\n",
      " 3 3 3\n",
      " 4 4 4\n",
      " 5 5 100\n"
     ]
    },
    {
     "name": "stdout",
     "output_type": "stream",
     "text": [
      "4 4 4\n",
      "6 6 6\n",
      "5 6 100\n"
     ]
    }
   ],
   "source": [
    "n,m = map(int, input().split())\n",
    "\n",
    "a = []\n",
    "b = []\n",
    "result = []\n",
    "\n",
    "for i in range(n):\n",
    "    x = list(map(int, input().split()))\n",
    "    a.append(x)\n",
    "        \n",
    "for j in range(n):\n",
    "    y = list(map(int, input().split()))\n",
    "    b.append(y)\n",
    "\n",
    "for i in range(n):\n",
    "    z = []\n",
    "    for j in range(m):\n",
    "        z.append(a[i][j] + b[i][j])\n",
    "    result.append(z)\n",
    "\n",
    "for i in result:\n",
    "    print(*i)\n",
    "    \n",
    "'''\n",
    "예제 입력\n",
    " 3 3\n",
    " 1 1 1\n",
    " 2 2 2\n",
    " 0 1 0\n",
    " 3 3 3\n",
    " 4 4 4\n",
    " 5 5 100\n",
    "'''"
   ]
  }
 ],
 "metadata": {
  "kernelspec": {
   "display_name": "Python 3 (ipykernel)",
   "language": "python",
   "name": "python3"
  },
  "language_info": {
   "codemirror_mode": {
    "name": "ipython",
    "version": 3
   },
   "file_extension": ".py",
   "mimetype": "text/x-python",
   "name": "python",
   "nbconvert_exporter": "python",
   "pygments_lexer": "ipython3",
   "version": "3.9.13"
  }
 },
 "nbformat": 4,
 "nbformat_minor": 5
}
