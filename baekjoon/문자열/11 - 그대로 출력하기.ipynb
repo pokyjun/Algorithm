{
 "cells": [
  {
   "cell_type": "markdown",
   "id": "6f529102-2523-46f4-b2e1-f8594f1ec794",
   "metadata": {},
   "source": [
    "### 문제\n",
    "***\n",
    "입력 받은 대로 출력하는 프로그램을 작성하시오.\n",
    "\n",
    "### 입력\n",
    "***\n",
    "입력이 주어진다. 입력은 최대 100줄로 이루어져 있고, 알파벳 소문자, 대문자, 공백, 숫자로만 이루어져 있다. 각 줄은 100글자를 넘지 않으며, 빈 줄은 주어지지 않는다. 또, 각 줄은 공백으로 시작하지 않고, 공백으로 끝나지 않는다.\n",
    "\n",
    "### 출력\n",
    "***\n",
    "입력받은 그대로 출력한다."
   ]
  },
  {
   "cell_type": "code",
   "execution_count": null,
   "id": "8c8705cc-2ae6-4374-b00f-b1cd018c7aff",
   "metadata": {},
   "outputs": [],
   "source": [
    "while True:\n",
    "    try:\n",
    "        print(input())\n",
    "    except EOFError:\n",
    "        break"
   ]
  },
  {
   "cell_type": "markdown",
   "id": "c41f0690-35d5-497e-a0b1-b55ddee20cb6",
   "metadata": {},
   "source": [
    "EOFError : End Of File로 input을 사용한 입력 시 더 이상 입력할 파일이 없다는 뜻\n",
    "\n",
    "이 문제는 어떻게 끝나는지 나와있지 않으므로 예외 처리를 해주어야 한다.\n",
    "\n",
    "> 주의!!  \n",
    "input()은 더 이상 읽을 게 없다면 EOF에러를 일으키지만, sys.stdin.readline()은 읽을 게 없으면 빈 문자열을 반환한다."
   ]
  },
  {
   "cell_type": "code",
   "execution_count": null,
   "id": "1deef454-c7b4-4ab1-a828-b5c86ea4526c",
   "metadata": {},
   "outputs": [],
   "source": [
    "import sys\n",
    "\n",
    "while True:\n",
    "    try:\n",
    "        print(sys.stdin.readline(), end='')\n",
    "    except EOFError:\n",
    "        break"
   ]
  }
 ],
 "metadata": {
  "kernelspec": {
   "display_name": "Python 3 (ipykernel)",
   "language": "python",
   "name": "python3"
  },
  "language_info": {
   "codemirror_mode": {
    "name": "ipython",
    "version": 3
   },
   "file_extension": ".py",
   "mimetype": "text/x-python",
   "name": "python",
   "nbconvert_exporter": "python",
   "pygments_lexer": "ipython3",
   "version": "3.9.7"
  }
 },
 "nbformat": 4,
 "nbformat_minor": 5
}
